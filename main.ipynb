{
 "cells": [
  {
   "cell_type": "code",
   "execution_count": 1,
   "metadata": {},
   "outputs": [
    {
     "name": "stdout",
     "output_type": "stream",
     "text": [
      "\n",
      "Found data for: Brazil, Canada, Germany, India, Indonesia, Japan, Niger, South Africa, United States of America\n",
      "\n",
      "Generating plot for selected countries...\n"
     ]
    },
    {
     "data": {
      "application/vnd.plotly.v1+json": {
       "config": {
        "plotlyServerURL": "https://plot.ly"
       },
       "data": [
        {
         "customdata": [
          [
           "Sex ratio (males per 100 females)"
          ],
          [
           "Sex ratio (males per 100 females)"
          ],
          [
           "Sex ratio (males per 100 females)"
          ],
          [
           "Sex ratio (males per 100 females)"
          ]
         ],
         "hovertemplate": "Country=Brazil<br>Indicator=%{customdata[0]}<br>year=%{x}<br>Value=%{y}<extra></extra>",
         "legendgroup": "Brazil, Sex ratio (males per 100 females)",
         "line": {
          "color": "#636efa",
          "dash": "solid"
         },
         "marker": {
          "symbol": "circle"
         },
         "mode": "lines+markers",
         "name": "Brazil, Sex ratio (males per 100 females)",
         "orientation": "v",
         "showlegend": true,
         "type": "scatter",
         "x": {
          "bdata": "2gffB+YH6Ac=",
          "dtype": "i2"
         },
         "xaxis": "x",
         "y": {
          "bdata": "mpmZmZl5WEBmZmZmZmZYQAAAAAAAQFhAMzMzMzMzWEA=",
          "dtype": "f8"
         },
         "yaxis": "y"
        },
        {
         "customdata": [
          [
           "Population aged 0 to 14 years old (percentage)"
          ],
          [
           "Population aged 0 to 14 years old (percentage)"
          ],
          [
           "Population aged 0 to 14 years old (percentage)"
          ],
          [
           "Population aged 0 to 14 years old (percentage)"
          ]
         ],
         "hovertemplate": "Country=Brazil<br>Indicator=%{customdata[0]}<br>year=%{x}<br>Value=%{y}<extra></extra>",
         "legendgroup": "Brazil, Population aged 0 to 14 years old (percentage)",
         "line": {
          "color": "#636efa",
          "dash": "dot"
         },
         "marker": {
          "symbol": "diamond"
         },
         "mode": "lines+markers",
         "name": "Brazil, Population aged 0 to 14 years old (percentage)",
         "orientation": "v",
         "showlegend": true,
         "type": "scatter",
         "x": {
          "bdata": "2gffB+YH6Ac=",
          "dtype": "i2"
         },
         "xaxis": "x",
         "y": {
          "bdata": "MzMzMzOzOEBmZmZmZmY2QDMzMzMzMzRAMzMzMzOzM0A=",
          "dtype": "f8"
         },
         "yaxis": "y"
        },
        {
         "customdata": [
          [
           "Sex ratio (males per 100 females)"
          ],
          [
           "Sex ratio (males per 100 females)"
          ],
          [
           "Sex ratio (males per 100 females)"
          ],
          [
           "Sex ratio (males per 100 females)"
          ]
         ],
         "hovertemplate": "Country=Canada<br>Indicator=%{customdata[0]}<br>year=%{x}<br>Value=%{y}<extra></extra>",
         "legendgroup": "Canada, Sex ratio (males per 100 females)",
         "line": {
          "color": "#EF553B",
          "dash": "solid"
         },
         "marker": {
          "symbol": "circle"
         },
         "mode": "lines+markers",
         "name": "Canada, Sex ratio (males per 100 females)",
         "orientation": "v",
         "showlegend": true,
         "type": "scatter",
         "x": {
          "bdata": "2gffB+YH6Ac=",
          "dtype": "i2"
         },
         "xaxis": "x",
         "y": {
          "bdata": "zczMzMyMWECamZmZmZlYQM3MzMzMrFhAZmZmZmamWEA=",
          "dtype": "f8"
         },
         "yaxis": "y"
        },
        {
         "customdata": [
          [
           "Population aged 0 to 14 years old (percentage)"
          ],
          [
           "Population aged 0 to 14 years old (percentage)"
          ],
          [
           "Population aged 0 to 14 years old (percentage)"
          ],
          [
           "Population aged 0 to 14 years old (percentage)"
          ]
         ],
         "hovertemplate": "Country=Canada<br>Indicator=%{customdata[0]}<br>year=%{x}<br>Value=%{y}<extra></extra>",
         "legendgroup": "Canada, Population aged 0 to 14 years old (percentage)",
         "line": {
          "color": "#EF553B",
          "dash": "dot"
         },
         "marker": {
          "symbol": "diamond"
         },
         "mode": "lines+markers",
         "name": "Canada, Population aged 0 to 14 years old (percentage)",
         "orientation": "v",
         "showlegend": true,
         "type": "scatter",
         "x": {
          "bdata": "2gffB+YH6Ac=",
          "dtype": "i2"
         },
         "xaxis": "x",
         "y": {
          "bdata": "mpmZmZmZMEAzMzMzMzMwQAAAAAAAAC9AMzMzMzMzLkA=",
          "dtype": "f8"
         },
         "yaxis": "y"
        },
        {
         "customdata": [
          [
           "Sex ratio (males per 100 females)"
          ],
          [
           "Sex ratio (males per 100 females)"
          ],
          [
           "Sex ratio (males per 100 females)"
          ],
          [
           "Sex ratio (males per 100 females)"
          ]
         ],
         "hovertemplate": "Country=Germany<br>Indicator=%{customdata[0]}<br>year=%{x}<br>Value=%{y}<extra></extra>",
         "legendgroup": "Germany, Sex ratio (males per 100 females)",
         "line": {
          "color": "#00cc96",
          "dash": "solid"
         },
         "marker": {
          "symbol": "circle"
         },
         "mode": "lines+markers",
         "name": "Germany, Sex ratio (males per 100 females)",
         "orientation": "v",
         "showlegend": true,
         "type": "scatter",
         "x": {
          "bdata": "2gffB+YH6Ac=",
          "dtype": "i2"
         },
         "xaxis": "x",
         "y": {
          "bdata": "AAAAAADAV0CamZmZmTlYQAAAAAAAYFhAZmZmZmZmWEA=",
          "dtype": "f8"
         },
         "yaxis": "y"
        },
        {
         "customdata": [
          [
           "Population aged 0 to 14 years old (percentage)"
          ],
          [
           "Population aged 0 to 14 years old (percentage)"
          ],
          [
           "Population aged 0 to 14 years old (percentage)"
          ],
          [
           "Population aged 0 to 14 years old (percentage)"
          ]
         ],
         "hovertemplate": "Country=Germany<br>Indicator=%{customdata[0]}<br>year=%{x}<br>Value=%{y}<extra></extra>",
         "legendgroup": "Germany, Population aged 0 to 14 years old (percentage)",
         "line": {
          "color": "#00cc96",
          "dash": "dot"
         },
         "marker": {
          "symbol": "diamond"
         },
         "mode": "lines+markers",
         "name": "Germany, Population aged 0 to 14 years old (percentage)",
         "orientation": "v",
         "showlegend": true,
         "type": "scatter",
         "x": {
          "bdata": "2gffB+YH6Ac=",
          "dtype": "i2"
         },
         "xaxis": "x",
         "y": {
          "bdata": "ZmZmZmZmK0BmZmZmZmYqQM3MzMzMzCtAzczMzMzMK0A=",
          "dtype": "f8"
         },
         "yaxis": "y"
        },
        {
         "customdata": [
          [
           "Sex ratio (males per 100 females)"
          ],
          [
           "Sex ratio (males per 100 females)"
          ],
          [
           "Sex ratio (males per 100 females)"
          ],
          [
           "Sex ratio (males per 100 females)"
          ]
         ],
         "hovertemplate": "Country=India<br>Indicator=%{customdata[0]}<br>year=%{x}<br>Value=%{y}<extra></extra>",
         "legendgroup": "India, Sex ratio (males per 100 females)",
         "line": {
          "color": "#ab63fa",
          "dash": "solid"
         },
         "marker": {
          "symbol": "circle"
         },
         "mode": "lines+markers",
         "name": "India, Sex ratio (males per 100 females)",
         "orientation": "v",
         "showlegend": true,
         "type": "scatter",
         "x": {
          "bdata": "2gffB+YH6Ac=",
          "dtype": "i2"
         },
         "xaxis": "x",
         "y": {
          "bdata": "ZmZmZmbGWkCamZmZmblaQGZmZmZmplpAAAAAAACgWkA=",
          "dtype": "f8"
         },
         "yaxis": "y"
        },
        {
         "customdata": [
          [
           "Population aged 0 to 14 years old (percentage)"
          ],
          [
           "Population aged 0 to 14 years old (percentage)"
          ],
          [
           "Population aged 0 to 14 years old (percentage)"
          ],
          [
           "Population aged 0 to 14 years old (percentage)"
          ]
         ],
         "hovertemplate": "Country=India<br>Indicator=%{customdata[0]}<br>year=%{x}<br>Value=%{y}<extra></extra>",
         "legendgroup": "India, Population aged 0 to 14 years old (percentage)",
         "line": {
          "color": "#ab63fa",
          "dash": "dot"
         },
         "marker": {
          "symbol": "diamond"
         },
         "mode": "lines+markers",
         "name": "India, Population aged 0 to 14 years old (percentage)",
         "orientation": "v",
         "showlegend": true,
         "type": "scatter",
         "x": {
          "bdata": "2gffB+YH6Ac=",
          "dtype": "i2"
         },
         "xaxis": "x",
         "y": {
          "bdata": "zczMzMxMP0BmZmZmZuY8QAAAAAAAgDlAmpmZmZmZOEA=",
          "dtype": "f8"
         },
         "yaxis": "y"
        },
        {
         "customdata": [
          [
           "Sex ratio (males per 100 females)"
          ],
          [
           "Sex ratio (males per 100 females)"
          ],
          [
           "Sex ratio (males per 100 females)"
          ],
          [
           "Sex ratio (males per 100 females)"
          ]
         ],
         "hovertemplate": "Country=Indonesia<br>Indicator=%{customdata[0]}<br>year=%{x}<br>Value=%{y}<extra></extra>",
         "legendgroup": "Indonesia, Sex ratio (males per 100 females)",
         "line": {
          "color": "#FFA15A",
          "dash": "solid"
         },
         "marker": {
          "symbol": "circle"
         },
         "mode": "lines+markers",
         "name": "Indonesia, Sex ratio (males per 100 females)",
         "orientation": "v",
         "showlegend": true,
         "type": "scatter",
         "x": {
          "bdata": "2gffB+YH6Ac=",
          "dtype": "i2"
         },
         "xaxis": "x",
         "y": {
          "bdata": "MzMzMzMzWUCamZmZmTlZQJqZmZmZOVlAmpmZmZk5WUA=",
          "dtype": "f8"
         },
         "yaxis": "y"
        },
        {
         "customdata": [
          [
           "Population aged 0 to 14 years old (percentage)"
          ],
          [
           "Population aged 0 to 14 years old (percentage)"
          ],
          [
           "Population aged 0 to 14 years old (percentage)"
          ],
          [
           "Population aged 0 to 14 years old (percentage)"
          ]
         ],
         "hovertemplate": "Country=Indonesia<br>Indicator=%{customdata[0]}<br>year=%{x}<br>Value=%{y}<extra></extra>",
         "legendgroup": "Indonesia, Population aged 0 to 14 years old (percentage)",
         "line": {
          "color": "#FFA15A",
          "dash": "dot"
         },
         "marker": {
          "symbol": "diamond"
         },
         "mode": "lines+markers",
         "name": "Indonesia, Population aged 0 to 14 years old (percentage)",
         "orientation": "v",
         "showlegend": true,
         "type": "scatter",
         "x": {
          "bdata": "2gffB+YH6Ac=",
          "dtype": "i2"
         },
         "xaxis": "x",
         "y": {
          "bdata": "ZmZmZmbmO0AAAAAAAAA7QM3MzMzMTDlAmpmZmZmZOEA=",
          "dtype": "f8"
         },
         "yaxis": "y"
        },
        {
         "customdata": [
          [
           "Sex ratio (males per 100 females)"
          ],
          [
           "Sex ratio (males per 100 females)"
          ],
          [
           "Sex ratio (males per 100 females)"
          ],
          [
           "Sex ratio (males per 100 females)"
          ]
         ],
         "hovertemplate": "Country=Japan<br>Indicator=%{customdata[0]}<br>year=%{x}<br>Value=%{y}<extra></extra>",
         "legendgroup": "Japan, Sex ratio (males per 100 females)",
         "line": {
          "color": "#19d3f3",
          "dash": "solid"
         },
         "marker": {
          "symbol": "circle"
         },
         "mode": "lines+markers",
         "name": "Japan, Sex ratio (males per 100 females)",
         "orientation": "v",
         "showlegend": true,
         "type": "scatter",
         "x": {
          "bdata": "2gffB+YH6Ac=",
          "dtype": "i2"
         },
         "xaxis": "x",
         "y": {
          "bdata": "MzMzMzPzV0BmZmZmZuZXQJqZmZmZ2VdAMzMzMzPTV0A=",
          "dtype": "f8"
         },
         "yaxis": "y"
        },
        {
         "customdata": [
          [
           "Population aged 0 to 14 years old (percentage)"
          ],
          [
           "Population aged 0 to 14 years old (percentage)"
          ],
          [
           "Population aged 0 to 14 years old (percentage)"
          ],
          [
           "Population aged 0 to 14 years old (percentage)"
          ]
         ],
         "hovertemplate": "Country=Japan<br>Indicator=%{customdata[0]}<br>year=%{x}<br>Value=%{y}<extra></extra>",
         "legendgroup": "Japan, Population aged 0 to 14 years old (percentage)",
         "line": {
          "color": "#19d3f3",
          "dash": "dot"
         },
         "marker": {
          "symbol": "diamond"
         },
         "mode": "lines+markers",
         "name": "Japan, Population aged 0 to 14 years old (percentage)",
         "orientation": "v",
         "showlegend": true,
         "type": "scatter",
         "x": {
          "bdata": "2gffB+YH6Ac=",
          "dtype": "i2"
         },
         "xaxis": "x",
         "y": {
          "bdata": "zczMzMzMKkCamZmZmZkpQM3MzMzMzCdAzczMzMzMJkA=",
          "dtype": "f8"
         },
         "yaxis": "y"
        },
        {
         "customdata": [
          [
           "Sex ratio (males per 100 females)"
          ],
          [
           "Sex ratio (males per 100 females)"
          ],
          [
           "Sex ratio (males per 100 females)"
          ],
          [
           "Sex ratio (males per 100 females)"
          ]
         ],
         "hovertemplate": "Country=Niger<br>Indicator=%{customdata[0]}<br>year=%{x}<br>Value=%{y}<extra></extra>",
         "legendgroup": "Niger, Sex ratio (males per 100 females)",
         "line": {
          "color": "#FF6692",
          "dash": "solid"
         },
         "marker": {
          "symbol": "circle"
         },
         "mode": "lines+markers",
         "name": "Niger, Sex ratio (males per 100 females)",
         "orientation": "v",
         "showlegend": true,
         "type": "scatter",
         "x": {
          "bdata": "2gffB+YH6Ac=",
          "dtype": "i2"
         },
         "xaxis": "x",
         "y": {
          "bdata": "MzMzMzOzWUBmZmZmZsZZQGZmZmZmxllAZmZmZmbGWUA=",
          "dtype": "f8"
         },
         "yaxis": "y"
        },
        {
         "customdata": [
          [
           "Population aged 0 to 14 years old (percentage)"
          ],
          [
           "Population aged 0 to 14 years old (percentage)"
          ],
          [
           "Population aged 0 to 14 years old (percentage)"
          ],
          [
           "Population aged 0 to 14 years old (percentage)"
          ]
         ],
         "hovertemplate": "Country=Niger<br>Indicator=%{customdata[0]}<br>year=%{x}<br>Value=%{y}<extra></extra>",
         "legendgroup": "Niger, Population aged 0 to 14 years old (percentage)",
         "line": {
          "color": "#FF6692",
          "dash": "dot"
         },
         "marker": {
          "symbol": "diamond"
         },
         "mode": "lines+markers",
         "name": "Niger, Population aged 0 to 14 years old (percentage)",
         "orientation": "v",
         "showlegend": true,
         "type": "scatter",
         "x": {
          "bdata": "2gffB+YH6Ac=",
          "dtype": "i2"
         },
         "xaxis": "x",
         "y": {
          "bdata": "MzMzMzOzSECamZmZmZlIQGZmZmZmpkdAzczMzMxMR0A=",
          "dtype": "f8"
         },
         "yaxis": "y"
        },
        {
         "customdata": [
          [
           "Sex ratio (males per 100 females)"
          ],
          [
           "Sex ratio (males per 100 females)"
          ],
          [
           "Sex ratio (males per 100 females)"
          ],
          [
           "Sex ratio (males per 100 females)"
          ]
         ],
         "hovertemplate": "Country=South Africa<br>Indicator=%{customdata[0]}<br>year=%{x}<br>Value=%{y}<extra></extra>",
         "legendgroup": "South Africa, Sex ratio (males per 100 females)",
         "line": {
          "color": "#B6E880",
          "dash": "solid"
         },
         "marker": {
          "symbol": "circle"
         },
         "mode": "lines+markers",
         "name": "South Africa, Sex ratio (males per 100 females)",
         "orientation": "v",
         "showlegend": true,
         "type": "scatter",
         "x": {
          "bdata": "2gffB+YH6Ac=",
          "dtype": "i2"
         },
         "xaxis": "x",
         "y": {
          "bdata": "zczMzMwsV0AzMzMzM5NXQAAAAAAAoFdAMzMzMzOzV0A=",
          "dtype": "f8"
         },
         "yaxis": "y"
        },
        {
         "customdata": [
          [
           "Population aged 0 to 14 years old (percentage)"
          ],
          [
           "Population aged 0 to 14 years old (percentage)"
          ],
          [
           "Population aged 0 to 14 years old (percentage)"
          ],
          [
           "Population aged 0 to 14 years old (percentage)"
          ]
         ],
         "hovertemplate": "Country=South Africa<br>Indicator=%{customdata[0]}<br>year=%{x}<br>Value=%{y}<extra></extra>",
         "legendgroup": "South Africa, Population aged 0 to 14 years old (percentage)",
         "line": {
          "color": "#B6E880",
          "dash": "dot"
         },
         "marker": {
          "symbol": "diamond"
         },
         "mode": "lines+markers",
         "name": "South Africa, Population aged 0 to 14 years old (percentage)",
         "orientation": "v",
         "showlegend": true,
         "type": "scatter",
         "x": {
          "bdata": "2gffB+YH6Ac=",
          "dtype": "i2"
         },
         "xaxis": "x",
         "y": {
          "bdata": "ZmZmZmZmPUDNzMzMzEw8QM3MzMzMTDpAZmZmZmbmOUA=",
          "dtype": "f8"
         },
         "yaxis": "y"
        },
        {
         "customdata": [
          [
           "Sex ratio (males per 100 females)"
          ],
          [
           "Sex ratio (males per 100 females)"
          ],
          [
           "Sex ratio (males per 100 females)"
          ],
          [
           "Sex ratio (males per 100 females)"
          ]
         ],
         "hovertemplate": "Country=United States of America<br>Indicator=%{customdata[0]}<br>year=%{x}<br>Value=%{y}<extra></extra>",
         "legendgroup": "United States of America, Sex ratio (males per 100 females)",
         "line": {
          "color": "#FF97FF",
          "dash": "solid"
         },
         "marker": {
          "symbol": "circle"
         },
         "mode": "lines+markers",
         "name": "United States of America, Sex ratio (males per 100 females)",
         "orientation": "v",
         "showlegend": true,
         "type": "scatter",
         "x": {
          "bdata": "2gffB+YH6Ac=",
          "dtype": "i2"
         },
         "xaxis": "x",
         "y": {
          "bdata": "AAAAAADgWEAAAAAAACBZQGZmZmZmRllAAAAAAABAWUA=",
          "dtype": "f8"
         },
         "yaxis": "y"
        },
        {
         "customdata": [
          [
           "Population aged 0 to 14 years old (percentage)"
          ],
          [
           "Population aged 0 to 14 years old (percentage)"
          ],
          [
           "Population aged 0 to 14 years old (percentage)"
          ],
          [
           "Population aged 0 to 14 years old (percentage)"
          ]
         ],
         "hovertemplate": "Country=United States of America<br>Indicator=%{customdata[0]}<br>year=%{x}<br>Value=%{y}<extra></extra>",
         "legendgroup": "United States of America, Population aged 0 to 14 years old (percentage)",
         "line": {
          "color": "#FF97FF",
          "dash": "dot"
         },
         "marker": {
          "symbol": "diamond"
         },
         "mode": "lines+markers",
         "name": "United States of America, Population aged 0 to 14 years old (percentage)",
         "orientation": "v",
         "showlegend": true,
         "type": "scatter",
         "x": {
          "bdata": "2gffB+YH6Ac=",
          "dtype": "i2"
         },
         "xaxis": "x",
         "y": {
          "bdata": "MzMzMzOzM0AzMzMzMzMzQGZmZmZm5jFAzczMzMxMMUA=",
          "dtype": "f8"
         },
         "yaxis": "y"
        }
       ],
       "layout": {
        "legend": {
         "title": {
          "text": "Legend"
         },
         "tracegroupgap": 0
        },
        "template": {
         "data": {
          "bar": [
           {
            "error_x": {
             "color": "#2a3f5f"
            },
            "error_y": {
             "color": "#2a3f5f"
            },
            "marker": {
             "line": {
              "color": "#E5ECF6",
              "width": 0.5
             },
             "pattern": {
              "fillmode": "overlay",
              "size": 10,
              "solidity": 0.2
             }
            },
            "type": "bar"
           }
          ],
          "barpolar": [
           {
            "marker": {
             "line": {
              "color": "#E5ECF6",
              "width": 0.5
             },
             "pattern": {
              "fillmode": "overlay",
              "size": 10,
              "solidity": 0.2
             }
            },
            "type": "barpolar"
           }
          ],
          "carpet": [
           {
            "aaxis": {
             "endlinecolor": "#2a3f5f",
             "gridcolor": "white",
             "linecolor": "white",
             "minorgridcolor": "white",
             "startlinecolor": "#2a3f5f"
            },
            "baxis": {
             "endlinecolor": "#2a3f5f",
             "gridcolor": "white",
             "linecolor": "white",
             "minorgridcolor": "white",
             "startlinecolor": "#2a3f5f"
            },
            "type": "carpet"
           }
          ],
          "choropleth": [
           {
            "colorbar": {
             "outlinewidth": 0,
             "ticks": ""
            },
            "type": "choropleth"
           }
          ],
          "contour": [
           {
            "colorbar": {
             "outlinewidth": 0,
             "ticks": ""
            },
            "colorscale": [
             [
              0,
              "#0d0887"
             ],
             [
              0.1111111111111111,
              "#46039f"
             ],
             [
              0.2222222222222222,
              "#7201a8"
             ],
             [
              0.3333333333333333,
              "#9c179e"
             ],
             [
              0.4444444444444444,
              "#bd3786"
             ],
             [
              0.5555555555555556,
              "#d8576b"
             ],
             [
              0.6666666666666666,
              "#ed7953"
             ],
             [
              0.7777777777777778,
              "#fb9f3a"
             ],
             [
              0.8888888888888888,
              "#fdca26"
             ],
             [
              1,
              "#f0f921"
             ]
            ],
            "type": "contour"
           }
          ],
          "contourcarpet": [
           {
            "colorbar": {
             "outlinewidth": 0,
             "ticks": ""
            },
            "type": "contourcarpet"
           }
          ],
          "heatmap": [
           {
            "colorbar": {
             "outlinewidth": 0,
             "ticks": ""
            },
            "colorscale": [
             [
              0,
              "#0d0887"
             ],
             [
              0.1111111111111111,
              "#46039f"
             ],
             [
              0.2222222222222222,
              "#7201a8"
             ],
             [
              0.3333333333333333,
              "#9c179e"
             ],
             [
              0.4444444444444444,
              "#bd3786"
             ],
             [
              0.5555555555555556,
              "#d8576b"
             ],
             [
              0.6666666666666666,
              "#ed7953"
             ],
             [
              0.7777777777777778,
              "#fb9f3a"
             ],
             [
              0.8888888888888888,
              "#fdca26"
             ],
             [
              1,
              "#f0f921"
             ]
            ],
            "type": "heatmap"
           }
          ],
          "histogram": [
           {
            "marker": {
             "pattern": {
              "fillmode": "overlay",
              "size": 10,
              "solidity": 0.2
             }
            },
            "type": "histogram"
           }
          ],
          "histogram2d": [
           {
            "colorbar": {
             "outlinewidth": 0,
             "ticks": ""
            },
            "colorscale": [
             [
              0,
              "#0d0887"
             ],
             [
              0.1111111111111111,
              "#46039f"
             ],
             [
              0.2222222222222222,
              "#7201a8"
             ],
             [
              0.3333333333333333,
              "#9c179e"
             ],
             [
              0.4444444444444444,
              "#bd3786"
             ],
             [
              0.5555555555555556,
              "#d8576b"
             ],
             [
              0.6666666666666666,
              "#ed7953"
             ],
             [
              0.7777777777777778,
              "#fb9f3a"
             ],
             [
              0.8888888888888888,
              "#fdca26"
             ],
             [
              1,
              "#f0f921"
             ]
            ],
            "type": "histogram2d"
           }
          ],
          "histogram2dcontour": [
           {
            "colorbar": {
             "outlinewidth": 0,
             "ticks": ""
            },
            "colorscale": [
             [
              0,
              "#0d0887"
             ],
             [
              0.1111111111111111,
              "#46039f"
             ],
             [
              0.2222222222222222,
              "#7201a8"
             ],
             [
              0.3333333333333333,
              "#9c179e"
             ],
             [
              0.4444444444444444,
              "#bd3786"
             ],
             [
              0.5555555555555556,
              "#d8576b"
             ],
             [
              0.6666666666666666,
              "#ed7953"
             ],
             [
              0.7777777777777778,
              "#fb9f3a"
             ],
             [
              0.8888888888888888,
              "#fdca26"
             ],
             [
              1,
              "#f0f921"
             ]
            ],
            "type": "histogram2dcontour"
           }
          ],
          "mesh3d": [
           {
            "colorbar": {
             "outlinewidth": 0,
             "ticks": ""
            },
            "type": "mesh3d"
           }
          ],
          "parcoords": [
           {
            "line": {
             "colorbar": {
              "outlinewidth": 0,
              "ticks": ""
             }
            },
            "type": "parcoords"
           }
          ],
          "pie": [
           {
            "automargin": true,
            "type": "pie"
           }
          ],
          "scatter": [
           {
            "fillpattern": {
             "fillmode": "overlay",
             "size": 10,
             "solidity": 0.2
            },
            "type": "scatter"
           }
          ],
          "scatter3d": [
           {
            "line": {
             "colorbar": {
              "outlinewidth": 0,
              "ticks": ""
             }
            },
            "marker": {
             "colorbar": {
              "outlinewidth": 0,
              "ticks": ""
             }
            },
            "type": "scatter3d"
           }
          ],
          "scattercarpet": [
           {
            "marker": {
             "colorbar": {
              "outlinewidth": 0,
              "ticks": ""
             }
            },
            "type": "scattercarpet"
           }
          ],
          "scattergeo": [
           {
            "marker": {
             "colorbar": {
              "outlinewidth": 0,
              "ticks": ""
             }
            },
            "type": "scattergeo"
           }
          ],
          "scattergl": [
           {
            "marker": {
             "colorbar": {
              "outlinewidth": 0,
              "ticks": ""
             }
            },
            "type": "scattergl"
           }
          ],
          "scattermap": [
           {
            "marker": {
             "colorbar": {
              "outlinewidth": 0,
              "ticks": ""
             }
            },
            "type": "scattermap"
           }
          ],
          "scattermapbox": [
           {
            "marker": {
             "colorbar": {
              "outlinewidth": 0,
              "ticks": ""
             }
            },
            "type": "scattermapbox"
           }
          ],
          "scatterpolar": [
           {
            "marker": {
             "colorbar": {
              "outlinewidth": 0,
              "ticks": ""
             }
            },
            "type": "scatterpolar"
           }
          ],
          "scatterpolargl": [
           {
            "marker": {
             "colorbar": {
              "outlinewidth": 0,
              "ticks": ""
             }
            },
            "type": "scatterpolargl"
           }
          ],
          "scatterternary": [
           {
            "marker": {
             "colorbar": {
              "outlinewidth": 0,
              "ticks": ""
             }
            },
            "type": "scatterternary"
           }
          ],
          "surface": [
           {
            "colorbar": {
             "outlinewidth": 0,
             "ticks": ""
            },
            "colorscale": [
             [
              0,
              "#0d0887"
             ],
             [
              0.1111111111111111,
              "#46039f"
             ],
             [
              0.2222222222222222,
              "#7201a8"
             ],
             [
              0.3333333333333333,
              "#9c179e"
             ],
             [
              0.4444444444444444,
              "#bd3786"
             ],
             [
              0.5555555555555556,
              "#d8576b"
             ],
             [
              0.6666666666666666,
              "#ed7953"
             ],
             [
              0.7777777777777778,
              "#fb9f3a"
             ],
             [
              0.8888888888888888,
              "#fdca26"
             ],
             [
              1,
              "#f0f921"
             ]
            ],
            "type": "surface"
           }
          ],
          "table": [
           {
            "cells": {
             "fill": {
              "color": "#EBF0F8"
             },
             "line": {
              "color": "white"
             }
            },
            "header": {
             "fill": {
              "color": "#C8D4E3"
             },
             "line": {
              "color": "white"
             }
            },
            "type": "table"
           }
          ]
         },
         "layout": {
          "annotationdefaults": {
           "arrowcolor": "#2a3f5f",
           "arrowhead": 0,
           "arrowwidth": 1
          },
          "autotypenumbers": "strict",
          "coloraxis": {
           "colorbar": {
            "outlinewidth": 0,
            "ticks": ""
           }
          },
          "colorscale": {
           "diverging": [
            [
             0,
             "#8e0152"
            ],
            [
             0.1,
             "#c51b7d"
            ],
            [
             0.2,
             "#de77ae"
            ],
            [
             0.3,
             "#f1b6da"
            ],
            [
             0.4,
             "#fde0ef"
            ],
            [
             0.5,
             "#f7f7f7"
            ],
            [
             0.6,
             "#e6f5d0"
            ],
            [
             0.7,
             "#b8e186"
            ],
            [
             0.8,
             "#7fbc41"
            ],
            [
             0.9,
             "#4d9221"
            ],
            [
             1,
             "#276419"
            ]
           ],
           "sequential": [
            [
             0,
             "#0d0887"
            ],
            [
             0.1111111111111111,
             "#46039f"
            ],
            [
             0.2222222222222222,
             "#7201a8"
            ],
            [
             0.3333333333333333,
             "#9c179e"
            ],
            [
             0.4444444444444444,
             "#bd3786"
            ],
            [
             0.5555555555555556,
             "#d8576b"
            ],
            [
             0.6666666666666666,
             "#ed7953"
            ],
            [
             0.7777777777777778,
             "#fb9f3a"
            ],
            [
             0.8888888888888888,
             "#fdca26"
            ],
            [
             1,
             "#f0f921"
            ]
           ],
           "sequentialminus": [
            [
             0,
             "#0d0887"
            ],
            [
             0.1111111111111111,
             "#46039f"
            ],
            [
             0.2222222222222222,
             "#7201a8"
            ],
            [
             0.3333333333333333,
             "#9c179e"
            ],
            [
             0.4444444444444444,
             "#bd3786"
            ],
            [
             0.5555555555555556,
             "#d8576b"
            ],
            [
             0.6666666666666666,
             "#ed7953"
            ],
            [
             0.7777777777777778,
             "#fb9f3a"
            ],
            [
             0.8888888888888888,
             "#fdca26"
            ],
            [
             1,
             "#f0f921"
            ]
           ]
          },
          "colorway": [
           "#636efa",
           "#EF553B",
           "#00cc96",
           "#ab63fa",
           "#FFA15A",
           "#19d3f3",
           "#FF6692",
           "#B6E880",
           "#FF97FF",
           "#FECB52"
          ],
          "font": {
           "color": "#2a3f5f"
          },
          "geo": {
           "bgcolor": "white",
           "lakecolor": "white",
           "landcolor": "#E5ECF6",
           "showlakes": true,
           "showland": true,
           "subunitcolor": "white"
          },
          "hoverlabel": {
           "align": "left"
          },
          "hovermode": "closest",
          "mapbox": {
           "style": "light"
          },
          "paper_bgcolor": "white",
          "plot_bgcolor": "#E5ECF6",
          "polar": {
           "angularaxis": {
            "gridcolor": "white",
            "linecolor": "white",
            "ticks": ""
           },
           "bgcolor": "#E5ECF6",
           "radialaxis": {
            "gridcolor": "white",
            "linecolor": "white",
            "ticks": ""
           }
          },
          "scene": {
           "xaxis": {
            "backgroundcolor": "#E5ECF6",
            "gridcolor": "white",
            "gridwidth": 2,
            "linecolor": "white",
            "showbackground": true,
            "ticks": "",
            "zerolinecolor": "white"
           },
           "yaxis": {
            "backgroundcolor": "#E5ECF6",
            "gridcolor": "white",
            "gridwidth": 2,
            "linecolor": "white",
            "showbackground": true,
            "ticks": "",
            "zerolinecolor": "white"
           },
           "zaxis": {
            "backgroundcolor": "#E5ECF6",
            "gridcolor": "white",
            "gridwidth": 2,
            "linecolor": "white",
            "showbackground": true,
            "ticks": "",
            "zerolinecolor": "white"
           }
          },
          "shapedefaults": {
           "line": {
            "color": "#2a3f5f"
           }
          },
          "ternary": {
           "aaxis": {
            "gridcolor": "white",
            "linecolor": "white",
            "ticks": ""
           },
           "baxis": {
            "gridcolor": "white",
            "linecolor": "white",
            "ticks": ""
           },
           "bgcolor": "#E5ECF6",
           "caxis": {
            "gridcolor": "white",
            "linecolor": "white",
            "ticks": ""
           }
          },
          "title": {
           "x": 0.05
          },
          "xaxis": {
           "automargin": true,
           "gridcolor": "white",
           "linecolor": "white",
           "ticks": "",
           "title": {
            "standoff": 15
           },
           "zerolinecolor": "white",
           "zerolinewidth": 2
          },
          "yaxis": {
           "automargin": true,
           "gridcolor": "white",
           "linecolor": "white",
           "ticks": "",
           "title": {
            "standoff": 15
           },
           "zerolinecolor": "white",
           "zerolinewidth": 2
          }
         }
        },
        "title": {
         "text": "Indicators for Brazil, Canada, Germany, India, Indonesia, Japan, Niger, ... over Time"
        },
        "xaxis": {
         "anchor": "y",
         "domain": [
          0,
          1
         ],
         "title": {
          "text": "Year"
         }
        },
        "yaxis": {
         "anchor": "x",
         "domain": [
          0,
          1
         ],
         "title": {
          "text": "Indicator Value"
         }
        }
       }
      }
     },
     "metadata": {},
     "output_type": "display_data"
    }
   ],
   "source": [
    "import pandas as pd\n",
    "import plotly.express as px\n",
    "\n",
    "# Use io.StringIO to treat the string as a file\n",
    "data_file = './datasets/population_area.csv'\n",
    "\n",
    "# Read the CSV into a pandas DataFrame\n",
    "# Use quotechar='\"' to handle commas within quoted fields like the country name\n",
    "df = pd.read_csv(data_file)\n",
    "\n",
    "# Optional: Clean up column names (remove leading/trailing spaces)\n",
    "df.columns = df.columns.str.strip()\n",
    "\n",
    "# 2. Get User Input for Multiple Countries\n",
    "# Display available countries/regions to help the user\n",
    "available_countries = sorted(df['Country'].unique()) # Sort for easier reading\n",
    "\n",
    "countries_input = 'United States of America,Canada,Japan,Germany,India,Indonesia,Brazil,South Africa,Niger'\n",
    "indicators_inputs = ['Population aged 0 to 14 years old (percentage)','Sex ratio (males per 100 females)']\n",
    "\n",
    "# Parse the input string into a list of names, stripping whitespace\n",
    "selected_countries = [name.strip() for name in countries_input.split(',') if name.strip()]\n",
    "\n",
    "if not selected_countries:\n",
    "    print(\"No country names entered. Exiting.\")\n",
    "else:\n",
    "    # 3. Filter Data for ALL selected countries\n",
    "    df_filtered = df[df['Country'].isin(selected_countries)].copy() # Use .copy() to avoid SettingWithCopyWarning\n",
    "    df_filtered = df_filtered[df_filtered['Indicator'].isin(indicators_inputs)].copy()\n",
    "\n",
    "    # 4. Handle No/Partial Data\n",
    "    found_countries = df_filtered['Country'].unique()\n",
    "    not_found = set(selected_countries) - set(found_countries)\n",
    "\n",
    "    if not found_countries.any(): # Check if the filtered dataframe is empty\n",
    "        print(f\"No data found for any of the specified countries: {', '.join(selected_countries)}\")\n",
    "    else:\n",
    "        if not_found:\n",
    "            print(f\"\\nWarning: No data found for the following requested countries: {', '.join(not_found)}\")\n",
    "            print(f\"Plotting data for: {', '.join(found_countries)}\")\n",
    "        else:\n",
    "             print(f\"\\nFound data for: {', '.join(found_countries)}\")\n",
    "\n",
    "        # 5. Data Cleaning\n",
    "        df_filtered['Value'] = df_filtered['Value'].str.replace(',', '', regex=False)\n",
    "        df_filtered['Value'] = pd.to_numeric(df_filtered['Value'], errors='coerce')\n",
    "        df_filtered.dropna(subset=['Value'], inplace=True)\n",
    "\n",
    "        # Sort by country and year for potentially cleaner line connections\n",
    "        df_filtered.sort_values(['Country', 'year'], inplace=True)\n",
    "\n",
    "        # Check again if data remains after cleaning\n",
    "        if df_filtered.empty:\n",
    "             print(f\"No valid numeric indicator data found for the selected countries after cleaning.\")\n",
    "        else:\n",
    "            # 6. Plot Data\n",
    "            print(f\"\\nGenerating plot for selected countries...\")\n",
    "\n",
    "            # --- Plotting Strategy ---\n",
    "            # We need to distinguish between countries AND indicators.\n",
    "            # Option 1: Color by Country, Line Style by Indicator (good if few indicators)\n",
    "            # Option 2: Color by Indicator, Line Style by Country (good if few countries)\n",
    "            # Let's use Option 1 as a default, adding symbols for clarity.\n",
    "\n",
    "            title_countries = ', '.join(found_countries)\n",
    "            if len(title_countries) > 60: # Truncate title if too long\n",
    "                 title_countries = title_countries[:57] + \"...\"\n",
    "\n",
    "            fig = px.line(\n",
    "                df_filtered,\n",
    "                x='year',\n",
    "                y='Value',\n",
    "                color='Country',         # Different color for each country\n",
    "                line_dash='Indicator',   # Different line style for each indicator\n",
    "                symbol='Indicator',      # Different marker shape for each indicator\n",
    "                markers=True,            # Show markers on the lines\n",
    "                title=f'Indicators for {title_countries} over Time',\n",
    "                hover_data=['Indicator'] # Show indicator name clearly on hover\n",
    "            )\n",
    "\n",
    "            # Customize layout (optional)\n",
    "            fig.update_layout(\n",
    "                xaxis_title='Year',\n",
    "                yaxis_title='Indicator Value',\n",
    "                legend_title='Legend' # Generic legend title\n",
    "            )\n",
    "            # Improve legend clarity (optional, might make it large)\n",
    "            # fig.update_layout(legend={'traceorder': 'grouped'})\n",
    "\n",
    "            # 7. Show Plot\n",
    "            fig.show()"
   ]
  },
  {
   "cell_type": "code",
   "execution_count": null,
   "metadata": {},
   "outputs": [],
   "source": []
  }
 ],
 "metadata": {
  "kernelspec": {
   "display_name": "py3.9",
   "language": "python",
   "name": "python3"
  },
  "language_info": {
   "codemirror_mode": {
    "name": "ipython",
    "version": 3
   },
   "file_extension": ".py",
   "mimetype": "text/x-python",
   "name": "python",
   "nbconvert_exporter": "python",
   "pygments_lexer": "ipython3",
   "version": "3.9.0"
  }
 },
 "nbformat": 4,
 "nbformat_minor": 2
}
