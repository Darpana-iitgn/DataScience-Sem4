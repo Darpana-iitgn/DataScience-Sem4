{
 "cells": [
  {
   "cell_type": "code",
   "execution_count": 1,
   "metadata": {},
   "outputs": [],
   "source": [
    "import numpy as np\n",
    "import pandas as pd"
   ]
  },
  {
   "cell_type": "code",
   "execution_count": 3,
   "metadata": {},
   "outputs": [
    {
     "name": "stdout",
     "output_type": "stream",
     "text": [
      "['Population mid-year estimates (millions)'\n",
      " 'Population mid-year estimates for males (millions)'\n",
      " 'Population mid-year estimates for females (millions)'\n",
      " 'Sex ratio (males per 100 females)'\n",
      " 'Population aged 0 to 14 years old (percentage)'\n",
      " 'Population aged 60+ years old (percentage)' 'Population density'\n",
      " 'Surface area (thousand km2)']\n"
     ]
    }
   ],
   "source": [
    "data_population = pd.read_csv('population_area.csv')\n",
    "data_population.head()\n",
    "\n",
    "countries = data_population['Country'].unique()\n",
    "indicators = data_population['Indicator'].unique()\n",
    "print(indicators)"
   ]
  },
  {
   "cell_type": "code",
   "execution_count": null,
   "metadata": {},
   "outputs": [
    {
     "data": {
      "text/plain": [
       "array(['Total, all countries or areas', 'Africa', 'Northern Africa',\n",
       "       'Sub-Saharan Africa', 'Eastern Africa', 'Middle Africa',\n",
       "       'Southern Africa', 'Western Africa', 'Americas',\n",
       "       'Northern America', 'Latin America & the Caribbean', 'Caribbean',\n",
       "       'Central America', 'South America', 'Asia', 'Central Asia',\n",
       "       'Eastern Asia', 'South-central Asia', 'South-eastern Asia',\n",
       "       'Southern Asia', 'Western Asia', 'Europe', 'Eastern Europe',\n",
       "       'Northern Europe', 'Southern Europe', 'Western Europe', 'Oceania',\n",
       "       'Australia and New Zealand', 'Melanesia', 'Micronesia',\n",
       "       'Polynesia', 'Afghanistan', 'Albania', 'Algeria', 'American Samoa',\n",
       "       'Andorra', 'Angola', 'Anguilla', 'Antigua and Barbuda',\n",
       "       'Argentina', 'Armenia', 'Aruba', 'Australia', 'Austria',\n",
       "       'Azerbaijan', 'Bahamas', 'Bahrain', 'Bangladesh', 'Barbados',\n",
       "       'Belarus', 'Belgium', 'Belize', 'Benin', 'Bermuda', 'Bhutan',\n",
       "       'Bolivia (Plurin. State of)', 'Bonaire, St. Eustatius & Saba',\n",
       "       'Bosnia and Herzegovina', 'Botswana', 'Brazil',\n",
       "       'British Virgin Islands', 'Brunei Darussalam', 'Bulgaria',\n",
       "       'Burkina Faso', 'Burundi', 'Cabo Verde', 'Cambodia', 'Cameroon',\n",
       "       'Canada', 'Cayman Islands', 'Central African Republic', 'Chad',\n",
       "       'Chile', 'China', 'China, Hong Kong SAR', 'China, Macao SAR',\n",
       "       'Colombia', 'Comoros', 'Congo', 'Cook Islands', 'Costa Rica',\n",
       "       'Côte d’Ivoire', 'Croatia', 'Cuba', 'Curaçao', 'Cyprus', 'Czechia',\n",
       "       \"Dem. People's Rep. Korea\", 'Dem. Rep. of the Congo', 'Denmark',\n",
       "       'Djibouti', 'Dominica', 'Dominican Republic', 'Ecuador', 'Egypt',\n",
       "       'El Salvador', 'Equatorial Guinea', 'Eritrea', 'Estonia',\n",
       "       'Eswatini', 'Ethiopia', 'Falkland Islands (Malvinas)',\n",
       "       'Faroe Islands', 'Fiji', 'Finland', 'France', 'French Guiana',\n",
       "       'French Polynesia', 'Gabon', 'Gambia', 'Georgia', 'Germany',\n",
       "       'Ghana', 'Gibraltar', 'Greece', 'Greenland', 'Grenada',\n",
       "       'Guadeloupe', 'Guam', 'Guatemala', 'Guernsey', 'Guinea',\n",
       "       'Guinea-Bissau', 'Guyana', 'Haiti', 'Honduras', 'Hungary',\n",
       "       'Iceland', 'India', 'Indonesia', 'Iran (Islamic Republic of)',\n",
       "       'Iraq', 'Ireland', 'Isle of Man', 'Israel', 'Italy', 'Jamaica',\n",
       "       'Japan', 'Jersey', 'Jordan', 'Kazakhstan', 'Kenya', 'Kiribati',\n",
       "       'Kosovo', 'Kuwait', 'Kyrgyzstan', \"Lao People's Dem. Rep.\",\n",
       "       'Latvia', 'Lebanon', 'Lesotho', 'Liberia', 'Libya',\n",
       "       'Liechtenstein', 'Lithuania', 'Luxembourg', 'Madagascar', 'Malawi',\n",
       "       'Malaysia', 'Maldives', 'Mali', 'Malta', 'Marshall Islands',\n",
       "       'Martinique', 'Mauritania', 'Mauritius', 'Mayotte', 'Mexico',\n",
       "       'Micronesia (Fed. States of)', 'Monaco', 'Mongolia', 'Montenegro',\n",
       "       'Montserrat', 'Morocco', 'Mozambique', 'Myanmar', 'Namibia',\n",
       "       'Nauru', 'Nepal', 'Netherlands (Kingdom of the)', 'New Caledonia',\n",
       "       'New Zealand', 'Nicaragua', 'Niger', 'Nigeria', 'Niue',\n",
       "       'North Macedonia', 'Northern Mariana Islands', 'Norway', 'Oman',\n",
       "       'Other non-specified areas', 'Pakistan', 'Palau', 'Panama',\n",
       "       'Papua New Guinea', 'Paraguay', 'Peru', 'Philippines', 'Poland',\n",
       "       'Portugal', 'Puerto Rico', 'Qatar', 'Republic of Korea',\n",
       "       'Republic of Moldova', 'Réunion', 'Romania', 'Russian Federation',\n",
       "       'Rwanda', 'Saint Barthélemy', 'Saint Helena',\n",
       "       'Saint Kitts and Nevis', 'Saint Lucia',\n",
       "       'Saint Martin (French part)', 'Saint Pierre and Miquelon',\n",
       "       'Saint Vincent & Grenadines', 'Samoa', 'San Marino',\n",
       "       'Sao Tome and Principe', 'Saudi Arabia', 'Senegal', 'Serbia',\n",
       "       'Seychelles', 'Sierra Leone', 'Singapore',\n",
       "       'Sint Maarten (Dutch part)', 'Slovakia', 'Slovenia',\n",
       "       'Solomon Islands', 'Somalia', 'South Africa', 'South Sudan',\n",
       "       'Spain', 'Sri Lanka', 'State of Palestine', 'Sudan', 'Suriname',\n",
       "       'Sweden', 'Switzerland', 'Syrian Arab Republic', 'Tajikistan',\n",
       "       'Thailand', 'Timor-Leste', 'Togo', 'Tokelau', 'Tonga',\n",
       "       'Trinidad and Tobago', 'Tunisia', 'Türkiye', 'Turkmenistan',\n",
       "       'Turks and Caicos Islands', 'Tuvalu', 'Uganda', 'Ukraine',\n",
       "       'United Arab Emirates', 'United Kingdom',\n",
       "       'United Rep. of Tanzania', 'United States of America',\n",
       "       'United States Virgin Islands', 'Uruguay', 'Uzbekistan', 'Vanuatu',\n",
       "       'Venezuela (Boliv. Rep. of)', 'Viet Nam',\n",
       "       'Wallis and Futuna Islands', 'Western Sahara', 'Yemen', 'Zambia',\n",
       "       'Zimbabwe', 'LLDCs', 'LDC§', 'SIDS'], dtype=object)"
      ]
     },
     "execution_count": 4,
     "metadata": {},
     "output_type": "execute_result"
    }
   ],
   "source": [
    "data_population['Country'].unique()"
   ]
  },
  {
   "cell_type": "code",
   "execution_count": 6,
   "metadata": {},
   "outputs": [
    {
     "name": "stdout",
     "output_type": "stream",
     "text": [
      "\n",
      "Found data for: Brazil, Canada, Germany, India, Indonesia, Japan, Niger, South Africa, United States of America\n",
      "\n",
      "Generating plot for selected countries...\n"
     ]
    },
    {
     "data": {
      "application/vnd.plotly.v1+json": {
       "config": {
        "plotlyServerURL": "https://plot.ly"
       },
       "data": [
        {
         "customdata": [
          [
           "Sex ratio (males per 100 females)"
          ],
          [
           "Sex ratio (males per 100 females)"
          ],
          [
           "Sex ratio (males per 100 females)"
          ],
          [
           "Sex ratio (males per 100 females)"
          ]
         ],
         "hovertemplate": "Country=Brazil<br>Indicator=%{customdata[0]}<br>year=%{x}<br>Value=%{y}<extra></extra>",
         "legendgroup": "Brazil, Sex ratio (males per 100 females)",
         "line": {
          "color": "#636efa",
          "dash": "solid"
         },
         "marker": {
          "symbol": "circle"
         },
         "mode": "lines+markers",
         "name": "Brazil, Sex ratio (males per 100 females)",
         "orientation": "v",
         "showlegend": true,
         "type": "scatter",
         "x": {
          "bdata": "2gffB+YH6Ac=",
          "dtype": "i2"
         },
         "xaxis": "x",
         "y": {
          "bdata": "mpmZmZl5WEBmZmZmZmZYQAAAAAAAQFhAMzMzMzMzWEA=",
          "dtype": "f8"
         },
         "yaxis": "y"
        },
        {
         "customdata": [
          [
           "Population aged 0 to 14 years old (percentage)"
          ],
          [
           "Population aged 0 to 14 years old (percentage)"
          ],
          [
           "Population aged 0 to 14 years old (percentage)"
          ],
          [
           "Population aged 0 to 14 years old (percentage)"
          ]
         ],
         "hovertemplate": "Country=Brazil<br>Indicator=%{customdata[0]}<br>year=%{x}<br>Value=%{y}<extra></extra>",
         "legendgroup": "Brazil, Population aged 0 to 14 years old (percentage)",
         "line": {
          "color": "#636efa",
          "dash": "dot"
         },
         "marker": {
          "symbol": "diamond"
         },
         "mode": "lines+markers",
         "name": "Brazil, Population aged 0 to 14 years old (percentage)",
         "orientation": "v",
         "showlegend": true,
         "type": "scatter",
         "x": {
          "bdata": "2gffB+YH6Ac=",
          "dtype": "i2"
         },
         "xaxis": "x",
         "y": {
          "bdata": "MzMzMzOzOEBmZmZmZmY2QDMzMzMzMzRAMzMzMzOzM0A=",
          "dtype": "f8"
         },
         "yaxis": "y"
        },
        {
         "customdata": [
          [
           "Sex ratio (males per 100 females)"
          ],
          [
           "Sex ratio (males per 100 females)"
          ],
          [
           "Sex ratio (males per 100 females)"
          ],
          [
           "Sex ratio (males per 100 females)"
          ]
         ],
         "hovertemplate": "Country=Canada<br>Indicator=%{customdata[0]}<br>year=%{x}<br>Value=%{y}<extra></extra>",
         "legendgroup": "Canada, Sex ratio (males per 100 females)",
         "line": {
          "color": "#EF553B",
          "dash": "solid"
         },
         "marker": {
          "symbol": "circle"
         },
         "mode": "lines+markers",
         "name": "Canada, Sex ratio (males per 100 females)",
         "orientation": "v",
         "showlegend": true,
         "type": "scatter",
         "x": {
          "bdata": "2gffB+YH6Ac=",
          "dtype": "i2"
         },
         "xaxis": "x",
         "y": {
          "bdata": "zczMzMyMWECamZmZmZlYQM3MzMzMrFhAZmZmZmamWEA=",
          "dtype": "f8"
         },
         "yaxis": "y"
        },
        {
         "customdata": [
          [
           "Population aged 0 to 14 years old (percentage)"
          ],
          [
           "Population aged 0 to 14 years old (percentage)"
          ],
          [
           "Population aged 0 to 14 years old (percentage)"
          ],
          [
           "Population aged 0 to 14 years old (percentage)"
          ]
         ],
         "hovertemplate": "Country=Canada<br>Indicator=%{customdata[0]}<br>year=%{x}<br>Value=%{y}<extra></extra>",
         "legendgroup": "Canada, Population aged 0 to 14 years old (percentage)",
         "line": {
          "color": "#EF553B",
          "dash": "dot"
         },
         "marker": {
          "symbol": "diamond"
         },
         "mode": "lines+markers",
         "name": "Canada, Population aged 0 to 14 years old (percentage)",
         "orientation": "v",
         "showlegend": true,
         "type": "scatter",
         "x": {
          "bdata": "2gffB+YH6Ac=",
          "dtype": "i2"
         },
         "xaxis": "x",
         "y": {
          "bdata": "mpmZmZmZMEAzMzMzMzMwQAAAAAAAAC9AMzMzMzMzLkA=",
          "dtype": "f8"
         },
         "yaxis": "y"
        },
        {
         "customdata": [
          [
           "Sex ratio (males per 100 females)"
          ],
          [
           "Sex ratio (males per 100 females)"
          ],
          [
           "Sex ratio (males per 100 females)"
          ],
          [
           "Sex ratio (males per 100 females)"
          ]
         ],
         "hovertemplate": "Country=Germany<br>Indicator=%{customdata[0]}<br>year=%{x}<br>Value=%{y}<extra></extra>",
         "legendgroup": "Germany, Sex ratio (males per 100 females)",
         "line": {
          "color": "#00cc96",
          "dash": "solid"
         },
         "marker": {
          "symbol": "circle"
         },
         "mode": "lines+markers",
         "name": "Germany, Sex ratio (males per 100 females)",
         "orientation": "v",
         "showlegend": true,
         "type": "scatter",
         "x": {
          "bdata": "2gffB+YH6Ac=",
          "dtype": "i2"
         },
         "xaxis": "x",
         "y": {
          "bdata": "AAAAAADAV0CamZmZmTlYQAAAAAAAYFhAZmZmZmZmWEA=",
          "dtype": "f8"
         },
         "yaxis": "y"
        },
        {
         "customdata": [
          [
           "Population aged 0 to 14 years old (percentage)"
          ],
          [
           "Population aged 0 to 14 years old (percentage)"
          ],
          [
           "Population aged 0 to 14 years old (percentage)"
          ],
          [
           "Population aged 0 to 14 years old (percentage)"
          ]
         ],
         "hovertemplate": "Country=Germany<br>Indicator=%{customdata[0]}<br>year=%{x}<br>Value=%{y}<extra></extra>",
         "legendgroup": "Germany, Population aged 0 to 14 years old (percentage)",
         "line": {
          "color": "#00cc96",
          "dash": "dot"
         },
         "marker": {
          "symbol": "diamond"
         },
         "mode": "lines+markers",
         "name": "Germany, Population aged 0 to 14 years old (percentage)",
         "orientation": "v",
         "showlegend": true,
         "type": "scatter",
         "x": {
          "bdata": "2gffB+YH6Ac=",
          "dtype": "i2"
         },
         "xaxis": "x",
         "y": {
          "bdata": "ZmZmZmZmK0BmZmZmZmYqQM3MzMzMzCtAzczMzMzMK0A=",
          "dtype": "f8"
         },
         "yaxis": "y"
        },
        {
         "customdata": [
          [
           "Sex ratio (males per 100 females)"
          ],
          [
           "Sex ratio (males per 100 females)"
          ],
          [
           "Sex ratio (males per 100 females)"
          ],
          [
           "Sex ratio (males per 100 females)"
          ]
         ],
         "hovertemplate": "Country=India<br>Indicator=%{customdata[0]}<br>year=%{x}<br>Value=%{y}<extra></extra>",
         "legendgroup": "India, Sex ratio (males per 100 females)",
         "line": {
          "color": "#ab63fa",
          "dash": "solid"
         },
         "marker": {
          "symbol": "circle"
         },
         "mode": "lines+markers",
         "name": "India, Sex ratio (males per 100 females)",
         "orientation": "v",
         "showlegend": true,
         "type": "scatter",
         "x": {
          "bdata": "2gffB+YH6Ac=",
          "dtype": "i2"
         },
         "xaxis": "x",
         "y": {
          "bdata": "ZmZmZmbGWkCamZmZmblaQGZmZmZmplpAAAAAAACgWkA=",
          "dtype": "f8"
         },
         "yaxis": "y"
        },
        {
         "customdata": [
          [
           "Population aged 0 to 14 years old (percentage)"
          ],
          [
           "Population aged 0 to 14 years old (percentage)"
          ],
          [
           "Population aged 0 to 14 years old (percentage)"
          ],
          [
           "Population aged 0 to 14 years old (percentage)"
          ]
         ],
         "hovertemplate": "Country=India<br>Indicator=%{customdata[0]}<br>year=%{x}<br>Value=%{y}<extra></extra>",
         "legendgroup": "India, Population aged 0 to 14 years old (percentage)",
         "line": {
          "color": "#ab63fa",
          "dash": "dot"
         },
         "marker": {
          "symbol": "diamond"
         },
         "mode": "lines+markers",
         "name": "India, Population aged 0 to 14 years old (percentage)",
         "orientation": "v",
         "showlegend": true,
         "type": "scatter",
         "x": {
          "bdata": "2gffB+YH6Ac=",
          "dtype": "i2"
         },
         "xaxis": "x",
         "y": {
          "bdata": "zczMzMxMP0BmZmZmZuY8QAAAAAAAgDlAmpmZmZmZOEA=",
          "dtype": "f8"
         },
         "yaxis": "y"
        },
        {
         "customdata": [
          [
           "Sex ratio (males per 100 females)"
          ],
          [
           "Sex ratio (males per 100 females)"
          ],
          [
           "Sex ratio (males per 100 females)"
          ],
          [
           "Sex ratio (males per 100 females)"
          ]
         ],
         "hovertemplate": "Country=Indonesia<br>Indicator=%{customdata[0]}<br>year=%{x}<br>Value=%{y}<extra></extra>",
         "legendgroup": "Indonesia, Sex ratio (males per 100 females)",
         "line": {
          "color": "#FFA15A",
          "dash": "solid"
         },
         "marker": {
          "symbol": "circle"
         },
         "mode": "lines+markers",
         "name": "Indonesia, Sex ratio (males per 100 females)",
         "orientation": "v",
         "showlegend": true,
         "type": "scatter",
         "x": {
          "bdata": "2gffB+YH6Ac=",
          "dtype": "i2"
         },
         "xaxis": "x",
         "y": {
          "bdata": "MzMzMzMzWUCamZmZmTlZQJqZmZmZOVlAmpmZmZk5WUA=",
          "dtype": "f8"
         },
         "yaxis": "y"
        },
        {
         "customdata": [
          [
           "Population aged 0 to 14 years old (percentage)"
          ],
          [
           "Population aged 0 to 14 years old (percentage)"
          ],
          [
           "Population aged 0 to 14 years old (percentage)"
          ],
          [
           "Population aged 0 to 14 years old (percentage)"
          ]
         ],
         "hovertemplate": "Country=Indonesia<br>Indicator=%{customdata[0]}<br>year=%{x}<br>Value=%{y}<extra></extra>",
         "legendgroup": "Indonesia, Population aged 0 to 14 years old (percentage)",
         "line": {
          "color": "#FFA15A",
          "dash": "dot"
         },
         "marker": {
          "symbol": "diamond"
         },
         "mode": "lines+markers",
         "name": "Indonesia, Population aged 0 to 14 years old (percentage)",
         "orientation": "v",
         "showlegend": true,
         "type": "scatter",
         "x": {
          "bdata": "2gffB+YH6Ac=",
          "dtype": "i2"
         },
         "xaxis": "x",
         "y": {
          "bdata": "ZmZmZmbmO0AAAAAAAAA7QM3MzMzMTDlAmpmZmZmZOEA=",
          "dtype": "f8"
         },
         "yaxis": "y"
        },
        {
         "customdata": [
          [
           "Sex ratio (males per 100 females)"
          ],
          [
           "Sex ratio (males per 100 females)"
          ],
          [
           "Sex ratio (males per 100 females)"
          ],
          [
           "Sex ratio (males per 100 females)"
          ]
         ],
         "hovertemplate": "Country=Japan<br>Indicator=%{customdata[0]}<br>year=%{x}<br>Value=%{y}<extra></extra>",
         "legendgroup": "Japan, Sex ratio (males per 100 females)",
         "line": {
          "color": "#19d3f3",
          "dash": "solid"
         },
         "marker": {
          "symbol": "circle"
         },
         "mode": "lines+markers",
         "name": "Japan, Sex ratio (males per 100 females)",
         "orientation": "v",
         "showlegend": true,
         "type": "scatter",
         "x": {
          "bdata": "2gffB+YH6Ac=",
          "dtype": "i2"
         },
         "xaxis": "x",
         "y": {
          "bdata": "MzMzMzPzV0BmZmZmZuZXQJqZmZmZ2VdAMzMzMzPTV0A=",
          "dtype": "f8"
         },
         "yaxis": "y"
        },
        {
         "customdata": [
          [
           "Population aged 0 to 14 years old (percentage)"
          ],
          [
           "Population aged 0 to 14 years old (percentage)"
          ],
          [
           "Population aged 0 to 14 years old (percentage)"
          ],
          [
           "Population aged 0 to 14 years old (percentage)"
          ]
         ],
         "hovertemplate": "Country=Japan<br>Indicator=%{customdata[0]}<br>year=%{x}<br>Value=%{y}<extra></extra>",
         "legendgroup": "Japan, Population aged 0 to 14 years old (percentage)",
         "line": {
          "color": "#19d3f3",
          "dash": "dot"
         },
         "marker": {
          "symbol": "diamond"
         },
         "mode": "lines+markers",
         "name": "Japan, Population aged 0 to 14 years old (percentage)",
         "orientation": "v",
         "showlegend": true,
         "type": "scatter",
         "x": {
          "bdata": "2gffB+YH6Ac=",
          "dtype": "i2"
         },
         "xaxis": "x",
         "y": {
          "bdata": "zczMzMzMKkCamZmZmZkpQM3MzMzMzCdAzczMzMzMJkA=",
          "dtype": "f8"
         },
         "yaxis": "y"
        },
        {
         "customdata": [
          [
           "Sex ratio (males per 100 females)"
          ],
          [
           "Sex ratio (males per 100 females)"
          ],
          [
           "Sex ratio (males per 100 females)"
          ],
          [
           "Sex ratio (males per 100 females)"
          ]
         ],
         "hovertemplate": "Country=Niger<br>Indicator=%{customdata[0]}<br>year=%{x}<br>Value=%{y}<extra></extra>",
         "legendgroup": "Niger, Sex ratio (males per 100 females)",
         "line": {
          "color": "#FF6692",
          "dash": "solid"
         },
         "marker": {
          "symbol": "circle"
         },
         "mode": "lines+markers",
         "name": "Niger, Sex ratio (males per 100 females)",
         "orientation": "v",
         "showlegend": true,
         "type": "scatter",
         "x": {
          "bdata": "2gffB+YH6Ac=",
          "dtype": "i2"
         },
         "xaxis": "x",
         "y": {
          "bdata": "MzMzMzOzWUBmZmZmZsZZQGZmZmZmxllAZmZmZmbGWUA=",
          "dtype": "f8"
         },
         "yaxis": "y"
        },
        {
         "customdata": [
          [
           "Population aged 0 to 14 years old (percentage)"
          ],
          [
           "Population aged 0 to 14 years old (percentage)"
          ],
          [
           "Population aged 0 to 14 years old (percentage)"
          ],
          [
           "Population aged 0 to 14 years old (percentage)"
          ]
         ],
         "hovertemplate": "Country=Niger<br>Indicator=%{customdata[0]}<br>year=%{x}<br>Value=%{y}<extra></extra>",
         "legendgroup": "Niger, Population aged 0 to 14 years old (percentage)",
         "line": {
          "color": "#FF6692",
          "dash": "dot"
         },
         "marker": {
          "symbol": "diamond"
         },
         "mode": "lines+markers",
         "name": "Niger, Population aged 0 to 14 years old (percentage)",
         "orientation": "v",
         "showlegend": true,
         "type": "scatter",
         "x": {
          "bdata": "2gffB+YH6Ac=",
          "dtype": "i2"
         },
         "xaxis": "x",
         "y": {
          "bdata": "MzMzMzOzSECamZmZmZlIQGZmZmZmpkdAzczMzMxMR0A=",
          "dtype": "f8"
         },
         "yaxis": "y"
        },
        {
         "customdata": [
          [
           "Sex ratio (males per 100 females)"
          ],
          [
           "Sex ratio (males per 100 females)"
          ],
          [
           "Sex ratio (males per 100 females)"
          ],
          [
           "Sex ratio (males per 100 females)"
          ]
         ],
         "hovertemplate": "Country=South Africa<br>Indicator=%{customdata[0]}<br>year=%{x}<br>Value=%{y}<extra></extra>",
         "legendgroup": "South Africa, Sex ratio (males per 100 females)",
         "line": {
          "color": "#B6E880",
          "dash": "solid"
         },
         "marker": {
          "symbol": "circle"
         },
         "mode": "lines+markers",
         "name": "South Africa, Sex ratio (males per 100 females)",
         "orientation": "v",
         "showlegend": true,
         "type": "scatter",
         "x": {
          "bdata": "2gffB+YH6Ac=",
          "dtype": "i2"
         },
         "xaxis": "x",
         "y": {
          "bdata": "zczMzMwsV0AzMzMzM5NXQAAAAAAAoFdAMzMzMzOzV0A=",
          "dtype": "f8"
         },
         "yaxis": "y"
        },
        {
         "customdata": [
          [
           "Population aged 0 to 14 years old (percentage)"
          ],
          [
           "Population aged 0 to 14 years old (percentage)"
          ],
          [
           "Population aged 0 to 14 years old (percentage)"
          ],
          [
           "Population aged 0 to 14 years old (percentage)"
          ]
         ],
         "hovertemplate": "Country=South Africa<br>Indicator=%{customdata[0]}<br>year=%{x}<br>Value=%{y}<extra></extra>",
         "legendgroup": "South Africa, Population aged 0 to 14 years old (percentage)",
         "line": {
          "color": "#B6E880",
          "dash": "dot"
         },
         "marker": {
          "symbol": "diamond"
         },
         "mode": "lines+markers",
         "name": "South Africa, Population aged 0 to 14 years old (percentage)",
         "orientation": "v",
         "showlegend": true,
         "type": "scatter",
         "x": {
          "bdata": "2gffB+YH6Ac=",
          "dtype": "i2"
         },
         "xaxis": "x",
         "y": {
          "bdata": "ZmZmZmZmPUDNzMzMzEw8QM3MzMzMTDpAZmZmZmbmOUA=",
          "dtype": "f8"
         },
         "yaxis": "y"
        },
        {
         "customdata": [
          [
           "Sex ratio (males per 100 females)"
          ],
          [
           "Sex ratio (males per 100 females)"
          ],
          [
           "Sex ratio (males per 100 females)"
          ],
          [
           "Sex ratio (males per 100 females)"
          ]
         ],
         "hovertemplate": "Country=United States of America<br>Indicator=%{customdata[0]}<br>year=%{x}<br>Value=%{y}<extra></extra>",
         "legendgroup": "United States of America, Sex ratio (males per 100 females)",
         "line": {
          "color": "#FF97FF",
          "dash": "solid"
         },
         "marker": {
          "symbol": "circle"
         },
         "mode": "lines+markers",
         "name": "United States of America, Sex ratio (males per 100 females)",
         "orientation": "v",
         "showlegend": true,
         "type": "scatter",
         "x": {
          "bdata": "2gffB+YH6Ac=",
          "dtype": "i2"
         },
         "xaxis": "x",
         "y": {
          "bdata": "AAAAAADgWEAAAAAAACBZQGZmZmZmRllAAAAAAABAWUA=",
          "dtype": "f8"
         },
         "yaxis": "y"
        },
        {
         "customdata": [
          [
           "Population aged 0 to 14 years old (percentage)"
          ],
          [
           "Population aged 0 to 14 years old (percentage)"
          ],
          [
           "Population aged 0 to 14 years old (percentage)"
          ],
          [
           "Population aged 0 to 14 years old (percentage)"
          ]
         ],
         "hovertemplate": "Country=United States of America<br>Indicator=%{customdata[0]}<br>year=%{x}<br>Value=%{y}<extra></extra>",
         "legendgroup": "United States of America, Population aged 0 to 14 years old (percentage)",
         "line": {
          "color": "#FF97FF",
          "dash": "dot"
         },
         "marker": {
          "symbol": "diamond"
         },
         "mode": "lines+markers",
         "name": "United States of America, Population aged 0 to 14 years old (percentage)",
         "orientation": "v",
         "showlegend": true,
         "type": "scatter",
         "x": {
          "bdata": "2gffB+YH6Ac=",
          "dtype": "i2"
         },
         "xaxis": "x",
         "y": {
          "bdata": "MzMzMzOzM0AzMzMzMzMzQGZmZmZm5jFAzczMzMxMMUA=",
          "dtype": "f8"
         },
         "yaxis": "y"
        }
       ],
       "layout": {
        "legend": {
         "title": {
          "text": "Legend"
         },
         "tracegroupgap": 0
        },
        "template": {
         "data": {
          "bar": [
           {
            "error_x": {
             "color": "#2a3f5f"
            },
            "error_y": {
             "color": "#2a3f5f"
            },
            "marker": {
             "line": {
              "color": "#E5ECF6",
              "width": 0.5
             },
             "pattern": {
              "fillmode": "overlay",
              "size": 10,
              "solidity": 0.2
             }
            },
            "type": "bar"
           }
          ],
          "barpolar": [
           {
            "marker": {
             "line": {
              "color": "#E5ECF6",
              "width": 0.5
             },
             "pattern": {
              "fillmode": "overlay",
              "size": 10,
              "solidity": 0.2
             }
            },
            "type": "barpolar"
           }
          ],
          "carpet": [
           {
            "aaxis": {
             "endlinecolor": "#2a3f5f",
             "gridcolor": "white",
             "linecolor": "white",
             "minorgridcolor": "white",
             "startlinecolor": "#2a3f5f"
            },
            "baxis": {
             "endlinecolor": "#2a3f5f",
             "gridcolor": "white",
             "linecolor": "white",
             "minorgridcolor": "white",
             "startlinecolor": "#2a3f5f"
            },
            "type": "carpet"
           }
          ],
          "choropleth": [
           {
            "colorbar": {
             "outlinewidth": 0,
             "ticks": ""
            },
            "type": "choropleth"
           }
          ],
          "contour": [
           {
            "colorbar": {
             "outlinewidth": 0,
             "ticks": ""
            },
            "colorscale": [
             [
              0,
              "#0d0887"
             ],
             [
              0.1111111111111111,
              "#46039f"
             ],
             [
              0.2222222222222222,
              "#7201a8"
             ],
             [
              0.3333333333333333,
              "#9c179e"
             ],
             [
              0.4444444444444444,
              "#bd3786"
             ],
             [
              0.5555555555555556,
              "#d8576b"
             ],
             [
              0.6666666666666666,
              "#ed7953"
             ],
             [
              0.7777777777777778,
              "#fb9f3a"
             ],
             [
              0.8888888888888888,
              "#fdca26"
             ],
             [
              1,
              "#f0f921"
             ]
            ],
            "type": "contour"
           }
          ],
          "contourcarpet": [
           {
            "colorbar": {
             "outlinewidth": 0,
             "ticks": ""
            },
            "type": "contourcarpet"
           }
          ],
          "heatmap": [
           {
            "colorbar": {
             "outlinewidth": 0,
             "ticks": ""
            },
            "colorscale": [
             [
              0,
              "#0d0887"
             ],
             [
              0.1111111111111111,
              "#46039f"
             ],
             [
              0.2222222222222222,
              "#7201a8"
             ],
             [
              0.3333333333333333,
              "#9c179e"
             ],
             [
              0.4444444444444444,
              "#bd3786"
             ],
             [
              0.5555555555555556,
              "#d8576b"
             ],
             [
              0.6666666666666666,
              "#ed7953"
             ],
             [
              0.7777777777777778,
              "#fb9f3a"
             ],
             [
              0.8888888888888888,
              "#fdca26"
             ],
             [
              1,
              "#f0f921"
             ]
            ],
            "type": "heatmap"
           }
          ],
          "histogram": [
           {
            "marker": {
             "pattern": {
              "fillmode": "overlay",
              "size": 10,
              "solidity": 0.2
             }
            },
            "type": "histogram"
           }
          ],
          "histogram2d": [
           {
            "colorbar": {
             "outlinewidth": 0,
             "ticks": ""
            },
            "colorscale": [
             [
              0,
              "#0d0887"
             ],
             [
              0.1111111111111111,
              "#46039f"
             ],
             [
              0.2222222222222222,
              "#7201a8"
             ],
             [
              0.3333333333333333,
              "#9c179e"
             ],
             [
              0.4444444444444444,
              "#bd3786"
             ],
             [
              0.5555555555555556,
              "#d8576b"
             ],
             [
              0.6666666666666666,
              "#ed7953"
             ],
             [
              0.7777777777777778,
              "#fb9f3a"
             ],
             [
              0.8888888888888888,
              "#fdca26"
             ],
             [
              1,
              "#f0f921"
             ]
            ],
            "type": "histogram2d"
           }
          ],
          "histogram2dcontour": [
           {
            "colorbar": {
             "outlinewidth": 0,
             "ticks": ""
            },
            "colorscale": [
             [
              0,
              "#0d0887"
             ],
             [
              0.1111111111111111,
              "#46039f"
             ],
             [
              0.2222222222222222,
              "#7201a8"
             ],
             [
              0.3333333333333333,
              "#9c179e"
             ],
             [
              0.4444444444444444,
              "#bd3786"
             ],
             [
              0.5555555555555556,
              "#d8576b"
             ],
             [
              0.6666666666666666,
              "#ed7953"
             ],
             [
              0.7777777777777778,
              "#fb9f3a"
             ],
             [
              0.8888888888888888,
              "#fdca26"
             ],
             [
              1,
              "#f0f921"
             ]
            ],
            "type": "histogram2dcontour"
           }
          ],
          "mesh3d": [
           {
            "colorbar": {
             "outlinewidth": 0,
             "ticks": ""
            },
            "type": "mesh3d"
           }
          ],
          "parcoords": [
           {
            "line": {
             "colorbar": {
              "outlinewidth": 0,
              "ticks": ""
             }
            },
            "type": "parcoords"
           }
          ],
          "pie": [
           {
            "automargin": true,
            "type": "pie"
           }
          ],
          "scatter": [
           {
            "fillpattern": {
             "fillmode": "overlay",
             "size": 10,
             "solidity": 0.2
            },
            "type": "scatter"
           }
          ],
          "scatter3d": [
           {
            "line": {
             "colorbar": {
              "outlinewidth": 0,
              "ticks": ""
             }
            },
            "marker": {
             "colorbar": {
              "outlinewidth": 0,
              "ticks": ""
             }
            },
            "type": "scatter3d"
           }
          ],
          "scattercarpet": [
           {
            "marker": {
             "colorbar": {
              "outlinewidth": 0,
              "ticks": ""
             }
            },
            "type": "scattercarpet"
           }
          ],
          "scattergeo": [
           {
            "marker": {
             "colorbar": {
              "outlinewidth": 0,
              "ticks": ""
             }
            },
            "type": "scattergeo"
           }
          ],
          "scattergl": [
           {
            "marker": {
             "colorbar": {
              "outlinewidth": 0,
              "ticks": ""
             }
            },
            "type": "scattergl"
           }
          ],
          "scattermap": [
           {
            "marker": {
             "colorbar": {
              "outlinewidth": 0,
              "ticks": ""
             }
            },
            "type": "scattermap"
           }
          ],
          "scattermapbox": [
           {
            "marker": {
             "colorbar": {
              "outlinewidth": 0,
              "ticks": ""
             }
            },
            "type": "scattermapbox"
           }
          ],
          "scatterpolar": [
           {
            "marker": {
             "colorbar": {
              "outlinewidth": 0,
              "ticks": ""
             }
            },
            "type": "scatterpolar"
           }
          ],
          "scatterpolargl": [
           {
            "marker": {
             "colorbar": {
              "outlinewidth": 0,
              "ticks": ""
             }
            },
            "type": "scatterpolargl"
           }
          ],
          "scatterternary": [
           {
            "marker": {
             "colorbar": {
              "outlinewidth": 0,
              "ticks": ""
             }
            },
            "type": "scatterternary"
           }
          ],
          "surface": [
           {
            "colorbar": {
             "outlinewidth": 0,
             "ticks": ""
            },
            "colorscale": [
             [
              0,
              "#0d0887"
             ],
             [
              0.1111111111111111,
              "#46039f"
             ],
             [
              0.2222222222222222,
              "#7201a8"
             ],
             [
              0.3333333333333333,
              "#9c179e"
             ],
             [
              0.4444444444444444,
              "#bd3786"
             ],
             [
              0.5555555555555556,
              "#d8576b"
             ],
             [
              0.6666666666666666,
              "#ed7953"
             ],
             [
              0.7777777777777778,
              "#fb9f3a"
             ],
             [
              0.8888888888888888,
              "#fdca26"
             ],
             [
              1,
              "#f0f921"
             ]
            ],
            "type": "surface"
           }
          ],
          "table": [
           {
            "cells": {
             "fill": {
              "color": "#EBF0F8"
             },
             "line": {
              "color": "white"
             }
            },
            "header": {
             "fill": {
              "color": "#C8D4E3"
             },
             "line": {
              "color": "white"
             }
            },
            "type": "table"
           }
          ]
         },
         "layout": {
          "annotationdefaults": {
           "arrowcolor": "#2a3f5f",
           "arrowhead": 0,
           "arrowwidth": 1
          },
          "autotypenumbers": "strict",
          "coloraxis": {
           "colorbar": {
            "outlinewidth": 0,
            "ticks": ""
           }
          },
          "colorscale": {
           "diverging": [
            [
             0,
             "#8e0152"
            ],
            [
             0.1,
             "#c51b7d"
            ],
            [
             0.2,
             "#de77ae"
            ],
            [
             0.3,
             "#f1b6da"
            ],
            [
             0.4,
             "#fde0ef"
            ],
            [
             0.5,
             "#f7f7f7"
            ],
            [
             0.6,
             "#e6f5d0"
            ],
            [
             0.7,
             "#b8e186"
            ],
            [
             0.8,
             "#7fbc41"
            ],
            [
             0.9,
             "#4d9221"
            ],
            [
             1,
             "#276419"
            ]
           ],
           "sequential": [
            [
             0,
             "#0d0887"
            ],
            [
             0.1111111111111111,
             "#46039f"
            ],
            [
             0.2222222222222222,
             "#7201a8"
            ],
            [
             0.3333333333333333,
             "#9c179e"
            ],
            [
             0.4444444444444444,
             "#bd3786"
            ],
            [
             0.5555555555555556,
             "#d8576b"
            ],
            [
             0.6666666666666666,
             "#ed7953"
            ],
            [
             0.7777777777777778,
             "#fb9f3a"
            ],
            [
             0.8888888888888888,
             "#fdca26"
            ],
            [
             1,
             "#f0f921"
            ]
           ],
           "sequentialminus": [
            [
             0,
             "#0d0887"
            ],
            [
             0.1111111111111111,
             "#46039f"
            ],
            [
             0.2222222222222222,
             "#7201a8"
            ],
            [
             0.3333333333333333,
             "#9c179e"
            ],
            [
             0.4444444444444444,
             "#bd3786"
            ],
            [
             0.5555555555555556,
             "#d8576b"
            ],
            [
             0.6666666666666666,
             "#ed7953"
            ],
            [
             0.7777777777777778,
             "#fb9f3a"
            ],
            [
             0.8888888888888888,
             "#fdca26"
            ],
            [
             1,
             "#f0f921"
            ]
           ]
          },
          "colorway": [
           "#636efa",
           "#EF553B",
           "#00cc96",
           "#ab63fa",
           "#FFA15A",
           "#19d3f3",
           "#FF6692",
           "#B6E880",
           "#FF97FF",
           "#FECB52"
          ],
          "font": {
           "color": "#2a3f5f"
          },
          "geo": {
           "bgcolor": "white",
           "lakecolor": "white",
           "landcolor": "#E5ECF6",
           "showlakes": true,
           "showland": true,
           "subunitcolor": "white"
          },
          "hoverlabel": {
           "align": "left"
          },
          "hovermode": "closest",
          "mapbox": {
           "style": "light"
          },
          "paper_bgcolor": "white",
          "plot_bgcolor": "#E5ECF6",
          "polar": {
           "angularaxis": {
            "gridcolor": "white",
            "linecolor": "white",
            "ticks": ""
           },
           "bgcolor": "#E5ECF6",
           "radialaxis": {
            "gridcolor": "white",
            "linecolor": "white",
            "ticks": ""
           }
          },
          "scene": {
           "xaxis": {
            "backgroundcolor": "#E5ECF6",
            "gridcolor": "white",
            "gridwidth": 2,
            "linecolor": "white",
            "showbackground": true,
            "ticks": "",
            "zerolinecolor": "white"
           },
           "yaxis": {
            "backgroundcolor": "#E5ECF6",
            "gridcolor": "white",
            "gridwidth": 2,
            "linecolor": "white",
            "showbackground": true,
            "ticks": "",
            "zerolinecolor": "white"
           },
           "zaxis": {
            "backgroundcolor": "#E5ECF6",
            "gridcolor": "white",
            "gridwidth": 2,
            "linecolor": "white",
            "showbackground": true,
            "ticks": "",
            "zerolinecolor": "white"
           }
          },
          "shapedefaults": {
           "line": {
            "color": "#2a3f5f"
           }
          },
          "ternary": {
           "aaxis": {
            "gridcolor": "white",
            "linecolor": "white",
            "ticks": ""
           },
           "baxis": {
            "gridcolor": "white",
            "linecolor": "white",
            "ticks": ""
           },
           "bgcolor": "#E5ECF6",
           "caxis": {
            "gridcolor": "white",
            "linecolor": "white",
            "ticks": ""
           }
          },
          "title": {
           "x": 0.05
          },
          "xaxis": {
           "automargin": true,
           "gridcolor": "white",
           "linecolor": "white",
           "ticks": "",
           "title": {
            "standoff": 15
           },
           "zerolinecolor": "white",
           "zerolinewidth": 2
          },
          "yaxis": {
           "automargin": true,
           "gridcolor": "white",
           "linecolor": "white",
           "ticks": "",
           "title": {
            "standoff": 15
           },
           "zerolinecolor": "white",
           "zerolinewidth": 2
          }
         }
        },
        "title": {
         "text": "Indicators for Brazil, Canada, Germany, India, Indonesia, Japan, Niger, ... over Time"
        },
        "xaxis": {
         "anchor": "y",
         "domain": [
          0,
          1
         ],
         "title": {
          "text": "Year"
         }
        },
        "yaxis": {
         "anchor": "x",
         "domain": [
          0,
          1
         ],
         "title": {
          "text": "Indicator Value"
         }
        }
       }
      }
     },
     "metadata": {},
     "output_type": "display_data"
    }
   ],
   "source": [
    "import pandas as pd\n",
    "import plotly.express as px\n",
    "\n",
    "# Use io.StringIO to treat the string as a file\n",
    "data_file = 'population_area.csv'\n",
    "\n",
    "# Read the CSV into a pandas DataFrame\n",
    "# Use quotechar='\"' to handle commas within quoted fields like the country name\n",
    "df = pd.read_csv(data_file)\n",
    "\n",
    "# Optional: Clean up column names (remove leading/trailing spaces)\n",
    "df.columns = df.columns.str.strip()\n",
    "\n",
    "# 2. Get User Input for Multiple Countries\n",
    "# Display available countries/regions to help the user\n",
    "available_countries = sorted(df['Country'].unique()) # Sort for easier reading\n",
    "\n",
    "countries_input = 'United States of America,Canada,Japan,Germany,India,Indonesia,Brazil,South Africa,Niger'\n",
    "indicators_inputs = ['Population aged 0 to 14 years old (percentage)','Sex ratio (males per 100 females)']\n",
    "\n",
    "# Parse the input string into a list of names, stripping whitespace\n",
    "selected_countries = [name.strip() for name in countries_input.split(',') if name.strip()]\n",
    "\n",
    "if not selected_countries:\n",
    "    print(\"No country names entered. Exiting.\")\n",
    "else:\n",
    "    # 3. Filter Data for ALL selected countries\n",
    "    df_filtered = df[df['Country'].isin(selected_countries)].copy() # Use .copy() to avoid SettingWithCopyWarning\n",
    "    df_filtered = df_filtered[df_filtered['Indicator'].isin(indicators_inputs)].copy()\n",
    "\n",
    "    # 4. Handle No/Partial Data\n",
    "    found_countries = df_filtered['Country'].unique()\n",
    "    not_found = set(selected_countries) - set(found_countries)\n",
    "\n",
    "    if not found_countries.any(): # Check if the filtered dataframe is empty\n",
    "        print(f\"No data found for any of the specified countries: {', '.join(selected_countries)}\")\n",
    "    else:\n",
    "        if not_found:\n",
    "            print(f\"\\nWarning: No data found for the following requested countries: {', '.join(not_found)}\")\n",
    "            print(f\"Plotting data for: {', '.join(found_countries)}\")\n",
    "        else:\n",
    "             print(f\"\\nFound data for: {', '.join(found_countries)}\")\n",
    "\n",
    "        # 5. Data Cleaning\n",
    "        df_filtered['Value'] = df_filtered['Value'].str.replace(',', '', regex=False)\n",
    "        df_filtered['Value'] = pd.to_numeric(df_filtered['Value'], errors='coerce')\n",
    "        df_filtered.dropna(subset=['Value'], inplace=True)\n",
    "\n",
    "        # Sort by country and year for potentially cleaner line connections\n",
    "        df_filtered.sort_values(['Country', 'year'], inplace=True)\n",
    "\n",
    "        # Check again if data remains after cleaning\n",
    "        if df_filtered.empty:\n",
    "             print(f\"No valid numeric indicator data found for the selected countries after cleaning.\")\n",
    "        else:\n",
    "            # 6. Plot Data\n",
    "            print(f\"\\nGenerating plot for selected countries...\")\n",
    "\n",
    "            # --- Plotting Strategy ---\n",
    "            # We need to distinguish between countries AND indicators.\n",
    "            # Option 1: Color by Country, Line Style by Indicator (good if few indicators)\n",
    "            # Option 2: Color by Indicator, Line Style by Country (good if few countries)\n",
    "            # Let's use Option 1 as a default, adding symbols for clarity.\n",
    "\n",
    "            title_countries = ', '.join(found_countries)\n",
    "            if len(title_countries) > 60: # Truncate title if too long\n",
    "                 title_countries = title_countries[:57] + \"...\"\n",
    "\n",
    "            fig = px.line(\n",
    "                df_filtered,\n",
    "                x='year',\n",
    "                y='Value',\n",
    "                color='Country',         # Different color for each country\n",
    "                line_dash='Indicator',   # Different line style for each indicator\n",
    "                symbol='Indicator',      # Different marker shape for each indicator\n",
    "                markers=True,            # Show markers on the lines\n",
    "                title=f'Indicators for {title_countries} over Time',\n",
    "                hover_data=['Indicator'] # Show indicator name clearly on hover\n",
    "            )\n",
    "\n",
    "            # Customize layout (optional)\n",
    "            fig.update_layout(\n",
    "                xaxis_title='Year',\n",
    "                yaxis_title='Indicator Value',\n",
    "                legend_title='Legend' # Generic legend title\n",
    "            )\n",
    "            # Improve legend clarity (optional, might make it large)\n",
    "            # fig.update_layout(legend={'traceorder': 'grouped'})\n",
    "\n",
    "            # 7. Show Plot\n",
    "            fig.show()"
   ]
  },
  {
   "cell_type": "code",
   "execution_count": 3,
   "metadata": {},
   "outputs": [
    {
     "name": "stdout",
     "output_type": "stream",
     "text": [
      "Collecting voila\n",
      "  Downloading voila-0.5.8-py3-none-any.whl.metadata (9.5 kB)\n",
      "Collecting jupyter-client<9,>=7.4.4 (from voila)\n",
      "  Downloading jupyter_client-8.6.3-py3-none-any.whl.metadata (8.3 kB)\n",
      "Requirement already satisfied: jupyter-core>=4.11.0 in /home/haarit/miniconda3/envs/py3.9/lib/python3.9/site-packages (from voila) (5.7.2)\n",
      "Collecting jupyter-server<3,>=1.18 (from voila)\n",
      "  Downloading jupyter_server-2.15.0-py3-none-any.whl.metadata (8.4 kB)\n",
      "Collecting jupyterlab-server<3,>=2.3.0 (from voila)\n",
      "  Downloading jupyterlab_server-2.27.3-py3-none-any.whl.metadata (5.9 kB)\n",
      "Collecting nbclient>=0.4.0 (from voila)\n",
      "  Downloading nbclient-0.10.2-py3-none-any.whl.metadata (8.3 kB)\n",
      "Collecting nbconvert<8,>=6.4.5 (from voila)\n",
      "  Downloading nbconvert-7.16.6-py3-none-any.whl.metadata (8.5 kB)\n",
      "Requirement already satisfied: traitlets<6,>=5.0.3 in /home/haarit/miniconda3/envs/py3.9/lib/python3.9/site-packages (from voila) (5.14.3)\n",
      "Collecting websockets>=9.0 (from voila)\n",
      "  Downloading websockets-15.0.1-cp39-cp39-manylinux_2_5_x86_64.manylinux1_x86_64.manylinux_2_17_x86_64.manylinux2014_x86_64.whl.metadata (6.8 kB)\n",
      "Requirement already satisfied: importlib-metadata>=4.8.3 in /home/haarit/miniconda3/envs/py3.9/lib/python3.9/site-packages (from jupyter-client<9,>=7.4.4->voila) (8.6.1)\n",
      "Requirement already satisfied: python-dateutil>=2.8.2 in /home/haarit/miniconda3/envs/py3.9/lib/python3.9/site-packages (from jupyter-client<9,>=7.4.4->voila) (2.9.0.post0)\n",
      "Requirement already satisfied: pyzmq>=23.0 in /home/haarit/miniconda3/envs/py3.9/lib/python3.9/site-packages (from jupyter-client<9,>=7.4.4->voila) (26.2.0)\n",
      "Collecting tornado>=6.2 (from jupyter-client<9,>=7.4.4->voila)\n",
      "  Downloading tornado-6.4.2-cp38-abi3-manylinux_2_5_x86_64.manylinux1_x86_64.manylinux_2_17_x86_64.manylinux2014_x86_64.whl.metadata (2.5 kB)\n",
      "Requirement already satisfied: platformdirs>=2.5 in /home/haarit/miniconda3/envs/py3.9/lib/python3.9/site-packages (from jupyter-core>=4.11.0->voila) (4.3.6)\n",
      "Collecting anyio>=3.1.0 (from jupyter-server<3,>=1.18->voila)\n",
      "  Downloading anyio-4.9.0-py3-none-any.whl.metadata (4.7 kB)\n",
      "Collecting argon2-cffi>=21.1 (from jupyter-server<3,>=1.18->voila)\n",
      "  Downloading argon2_cffi-23.1.0-py3-none-any.whl.metadata (5.2 kB)\n",
      "Requirement already satisfied: jinja2>=3.0.3 in /home/haarit/miniconda3/envs/py3.9/lib/python3.9/site-packages (from jupyter-server<3,>=1.18->voila) (3.1.6)\n",
      "Collecting jupyter-events>=0.11.0 (from jupyter-server<3,>=1.18->voila)\n",
      "  Downloading jupyter_events-0.12.0-py3-none-any.whl.metadata (5.8 kB)\n",
      "Collecting jupyter-server-terminals>=0.4.4 (from jupyter-server<3,>=1.18->voila)\n",
      "  Downloading jupyter_server_terminals-0.5.3-py3-none-any.whl.metadata (5.6 kB)\n",
      "Requirement already satisfied: nbformat>=5.3.0 in /home/haarit/miniconda3/envs/py3.9/lib/python3.9/site-packages (from jupyter-server<3,>=1.18->voila) (5.10.4)\n",
      "Collecting overrides>=5.0 (from jupyter-server<3,>=1.18->voila)\n",
      "  Downloading overrides-7.7.0-py3-none-any.whl.metadata (5.8 kB)\n",
      "Requirement already satisfied: packaging>=22.0 in /home/haarit/miniconda3/envs/py3.9/lib/python3.9/site-packages (from jupyter-server<3,>=1.18->voila) (24.2)\n",
      "Collecting prometheus-client>=0.9 (from jupyter-server<3,>=1.18->voila)\n",
      "  Downloading prometheus_client-0.21.1-py3-none-any.whl.metadata (1.8 kB)\n",
      "Collecting send2trash>=1.8.2 (from jupyter-server<3,>=1.18->voila)\n",
      "  Downloading Send2Trash-1.8.3-py3-none-any.whl.metadata (4.0 kB)\n",
      "Collecting terminado>=0.8.3 (from jupyter-server<3,>=1.18->voila)\n",
      "  Downloading terminado-0.18.1-py3-none-any.whl.metadata (5.8 kB)\n",
      "Collecting websocket-client>=1.7 (from jupyter-server<3,>=1.18->voila)\n",
      "  Downloading websocket_client-1.8.0-py3-none-any.whl.metadata (8.0 kB)\n",
      "Collecting babel>=2.10 (from jupyterlab-server<3,>=2.3.0->voila)\n",
      "  Downloading babel-2.17.0-py3-none-any.whl.metadata (2.0 kB)\n",
      "Collecting json5>=0.9.0 (from jupyterlab-server<3,>=2.3.0->voila)\n",
      "  Downloading json5-0.12.0-py3-none-any.whl.metadata (36 kB)\n",
      "Requirement already satisfied: jsonschema>=4.18.0 in /home/haarit/miniconda3/envs/py3.9/lib/python3.9/site-packages (from jupyterlab-server<3,>=2.3.0->voila) (4.23.0)\n",
      "Requirement already satisfied: requests>=2.31 in /home/haarit/miniconda3/envs/py3.9/lib/python3.9/site-packages (from jupyterlab-server<3,>=2.3.0->voila) (2.32.3)\n",
      "Collecting beautifulsoup4 (from nbconvert<8,>=6.4.5->voila)\n",
      "  Downloading beautifulsoup4-4.13.3-py3-none-any.whl.metadata (3.8 kB)\n",
      "Collecting bleach!=5.0.0 (from bleach[css]!=5.0.0->nbconvert<8,>=6.4.5->voila)\n",
      "  Downloading bleach-6.2.0-py3-none-any.whl.metadata (30 kB)\n",
      "Collecting defusedxml (from nbconvert<8,>=6.4.5->voila)\n",
      "  Downloading defusedxml-0.7.1-py2.py3-none-any.whl.metadata (32 kB)\n",
      "Collecting jupyterlab-pygments (from nbconvert<8,>=6.4.5->voila)\n",
      "  Downloading jupyterlab_pygments-0.3.0-py3-none-any.whl.metadata (4.4 kB)\n",
      "Requirement already satisfied: markupsafe>=2.0 in /home/haarit/miniconda3/envs/py3.9/lib/python3.9/site-packages (from nbconvert<8,>=6.4.5->voila) (3.0.2)\n",
      "Collecting mistune<4,>=2.0.3 (from nbconvert<8,>=6.4.5->voila)\n",
      "  Downloading mistune-3.1.3-py3-none-any.whl.metadata (1.8 kB)\n",
      "Collecting pandocfilters>=1.4.1 (from nbconvert<8,>=6.4.5->voila)\n",
      "  Downloading pandocfilters-1.5.1-py2.py3-none-any.whl.metadata (9.0 kB)\n",
      "Requirement already satisfied: pygments>=2.4.1 in /home/haarit/miniconda3/envs/py3.9/lib/python3.9/site-packages (from nbconvert<8,>=6.4.5->voila) (2.19.1)\n",
      "Requirement already satisfied: exceptiongroup>=1.0.2 in /home/haarit/miniconda3/envs/py3.9/lib/python3.9/site-packages (from anyio>=3.1.0->jupyter-server<3,>=1.18->voila) (1.2.2)\n",
      "Requirement already satisfied: idna>=2.8 in /home/haarit/miniconda3/envs/py3.9/lib/python3.9/site-packages (from anyio>=3.1.0->jupyter-server<3,>=1.18->voila) (3.10)\n",
      "Collecting sniffio>=1.1 (from anyio>=3.1.0->jupyter-server<3,>=1.18->voila)\n",
      "  Downloading sniffio-1.3.1-py3-none-any.whl.metadata (3.9 kB)\n",
      "Requirement already satisfied: typing_extensions>=4.5 in /home/haarit/miniconda3/envs/py3.9/lib/python3.9/site-packages (from anyio>=3.1.0->jupyter-server<3,>=1.18->voila) (4.12.2)\n",
      "Collecting argon2-cffi-bindings (from argon2-cffi>=21.1->jupyter-server<3,>=1.18->voila)\n",
      "  Downloading argon2_cffi_bindings-21.2.0-cp36-abi3-manylinux_2_17_x86_64.manylinux2014_x86_64.whl.metadata (6.7 kB)\n",
      "Collecting webencodings (from bleach!=5.0.0->bleach[css]!=5.0.0->nbconvert<8,>=6.4.5->voila)\n",
      "  Downloading webencodings-0.5.1-py2.py3-none-any.whl.metadata (2.1 kB)\n",
      "Collecting tinycss2<1.5,>=1.1.0 (from bleach[css]!=5.0.0->nbconvert<8,>=6.4.5->voila)\n",
      "  Downloading tinycss2-1.4.0-py3-none-any.whl.metadata (3.0 kB)\n",
      "Requirement already satisfied: zipp>=3.20 in /home/haarit/miniconda3/envs/py3.9/lib/python3.9/site-packages (from importlib-metadata>=4.8.3->jupyter-client<9,>=7.4.4->voila) (3.21.0)\n",
      "Requirement already satisfied: attrs>=22.2.0 in /home/haarit/miniconda3/envs/py3.9/lib/python3.9/site-packages (from jsonschema>=4.18.0->jupyterlab-server<3,>=2.3.0->voila) (25.3.0)\n",
      "Requirement already satisfied: jsonschema-specifications>=2023.03.6 in /home/haarit/miniconda3/envs/py3.9/lib/python3.9/site-packages (from jsonschema>=4.18.0->jupyterlab-server<3,>=2.3.0->voila) (2024.10.1)\n",
      "Requirement already satisfied: referencing>=0.28.4 in /home/haarit/miniconda3/envs/py3.9/lib/python3.9/site-packages (from jsonschema>=4.18.0->jupyterlab-server<3,>=2.3.0->voila) (0.36.2)\n",
      "Requirement already satisfied: rpds-py>=0.7.1 in /home/haarit/miniconda3/envs/py3.9/lib/python3.9/site-packages (from jsonschema>=4.18.0->jupyterlab-server<3,>=2.3.0->voila) (0.24.0)\n",
      "Collecting python-json-logger>=2.0.4 (from jupyter-events>=0.11.0->jupyter-server<3,>=1.18->voila)\n",
      "  Downloading python_json_logger-3.3.0-py3-none-any.whl.metadata (4.0 kB)\n",
      "Requirement already satisfied: pyyaml>=5.3 in /home/haarit/miniconda3/envs/py3.9/lib/python3.9/site-packages (from jupyter-events>=0.11.0->jupyter-server<3,>=1.18->voila) (6.0.2)\n",
      "Collecting rfc3339-validator (from jupyter-events>=0.11.0->jupyter-server<3,>=1.18->voila)\n",
      "  Downloading rfc3339_validator-0.1.4-py2.py3-none-any.whl.metadata (1.5 kB)\n",
      "Collecting rfc3986-validator>=0.1.1 (from jupyter-events>=0.11.0->jupyter-server<3,>=1.18->voila)\n",
      "  Downloading rfc3986_validator-0.1.1-py2.py3-none-any.whl.metadata (1.7 kB)\n",
      "Requirement already satisfied: fastjsonschema>=2.15 in /home/haarit/miniconda3/envs/py3.9/lib/python3.9/site-packages (from nbformat>=5.3.0->jupyter-server<3,>=1.18->voila) (2.21.1)\n",
      "Requirement already satisfied: six>=1.5 in /home/haarit/miniconda3/envs/py3.9/lib/python3.9/site-packages (from python-dateutil>=2.8.2->jupyter-client<9,>=7.4.4->voila) (1.17.0)\n",
      "Requirement already satisfied: charset-normalizer<4,>=2 in /home/haarit/miniconda3/envs/py3.9/lib/python3.9/site-packages (from requests>=2.31->jupyterlab-server<3,>=2.3.0->voila) (3.4.1)\n",
      "Requirement already satisfied: urllib3<3,>=1.21.1 in /home/haarit/miniconda3/envs/py3.9/lib/python3.9/site-packages (from requests>=2.31->jupyterlab-server<3,>=2.3.0->voila) (2.3.0)\n",
      "Requirement already satisfied: certifi>=2017.4.17 in /home/haarit/miniconda3/envs/py3.9/lib/python3.9/site-packages (from requests>=2.31->jupyterlab-server<3,>=2.3.0->voila) (2025.1.31)\n",
      "Requirement already satisfied: ptyprocess in /home/haarit/miniconda3/envs/py3.9/lib/python3.9/site-packages (from terminado>=0.8.3->jupyter-server<3,>=1.18->voila) (0.7.0)\n",
      "Collecting soupsieve>1.2 (from beautifulsoup4->nbconvert<8,>=6.4.5->voila)\n",
      "  Downloading soupsieve-2.6-py3-none-any.whl.metadata (4.6 kB)\n",
      "Collecting fqdn (from jsonschema[format-nongpl]>=4.18.0->jupyter-events>=0.11.0->jupyter-server<3,>=1.18->voila)\n",
      "  Downloading fqdn-1.5.1-py3-none-any.whl.metadata (1.4 kB)\n",
      "Collecting isoduration (from jsonschema[format-nongpl]>=4.18.0->jupyter-events>=0.11.0->jupyter-server<3,>=1.18->voila)\n",
      "  Downloading isoduration-20.11.0-py3-none-any.whl.metadata (5.7 kB)\n",
      "Collecting jsonpointer>1.13 (from jsonschema[format-nongpl]>=4.18.0->jupyter-events>=0.11.0->jupyter-server<3,>=1.18->voila)\n",
      "  Downloading jsonpointer-3.0.0-py2.py3-none-any.whl.metadata (2.3 kB)\n",
      "Collecting uri-template (from jsonschema[format-nongpl]>=4.18.0->jupyter-events>=0.11.0->jupyter-server<3,>=1.18->voila)\n",
      "  Downloading uri_template-1.3.0-py3-none-any.whl.metadata (8.8 kB)\n",
      "Collecting webcolors>=24.6.0 (from jsonschema[format-nongpl]>=4.18.0->jupyter-events>=0.11.0->jupyter-server<3,>=1.18->voila)\n",
      "  Downloading webcolors-24.11.1-py3-none-any.whl.metadata (2.2 kB)\n",
      "Collecting cffi>=1.0.1 (from argon2-cffi-bindings->argon2-cffi>=21.1->jupyter-server<3,>=1.18->voila)\n",
      "  Downloading cffi-1.17.1-cp39-cp39-manylinux_2_17_x86_64.manylinux2014_x86_64.whl.metadata (1.5 kB)\n",
      "Collecting pycparser (from cffi>=1.0.1->argon2-cffi-bindings->argon2-cffi>=21.1->jupyter-server<3,>=1.18->voila)\n",
      "  Downloading pycparser-2.22-py3-none-any.whl.metadata (943 bytes)\n",
      "Collecting arrow>=0.15.0 (from isoduration->jsonschema[format-nongpl]>=4.18.0->jupyter-events>=0.11.0->jupyter-server<3,>=1.18->voila)\n",
      "  Downloading arrow-1.3.0-py3-none-any.whl.metadata (7.5 kB)\n",
      "Collecting types-python-dateutil>=2.8.10 (from arrow>=0.15.0->isoduration->jsonschema[format-nongpl]>=4.18.0->jupyter-events>=0.11.0->jupyter-server<3,>=1.18->voila)\n",
      "  Downloading types_python_dateutil-2.9.0.20241206-py3-none-any.whl.metadata (2.1 kB)\n",
      "Downloading voila-0.5.8-py3-none-any.whl (4.5 MB)\n",
      "\u001b[2K   \u001b[90m━━━━━━━━━━━━━━━━━━━━━━━━━━━━━━━━━━━━━━━━\u001b[0m \u001b[32m4.5/4.5 MB\u001b[0m \u001b[31m30.4 MB/s\u001b[0m eta \u001b[36m0:00:00\u001b[0m\n",
      "\u001b[?25hDownloading jupyter_client-8.6.3-py3-none-any.whl (106 kB)\n",
      "Downloading jupyter_server-2.15.0-py3-none-any.whl (385 kB)\n",
      "Downloading jupyterlab_server-2.27.3-py3-none-any.whl (59 kB)\n",
      "Downloading nbclient-0.10.2-py3-none-any.whl (25 kB)\n",
      "Downloading nbconvert-7.16.6-py3-none-any.whl (258 kB)\n",
      "Downloading websockets-15.0.1-cp39-cp39-manylinux_2_5_x86_64.manylinux1_x86_64.manylinux_2_17_x86_64.manylinux2014_x86_64.whl (181 kB)\n",
      "Downloading anyio-4.9.0-py3-none-any.whl (100 kB)\n",
      "Downloading argon2_cffi-23.1.0-py3-none-any.whl (15 kB)\n",
      "Downloading babel-2.17.0-py3-none-any.whl (10.2 MB)\n",
      "\u001b[2K   \u001b[90m━━━━━━━━━━━━━━━━━━━━━━━━━━━━━━━━━━━━━━━━\u001b[0m \u001b[32m10.2/10.2 MB\u001b[0m \u001b[31m48.9 MB/s\u001b[0m eta \u001b[36m0:00:00\u001b[0m00:01\u001b[0m\n",
      "\u001b[?25hDownloading bleach-6.2.0-py3-none-any.whl (163 kB)\n",
      "Downloading json5-0.12.0-py3-none-any.whl (36 kB)\n",
      "Downloading jupyter_events-0.12.0-py3-none-any.whl (19 kB)\n",
      "Downloading jupyter_server_terminals-0.5.3-py3-none-any.whl (13 kB)\n",
      "Downloading mistune-3.1.3-py3-none-any.whl (53 kB)\n",
      "Downloading overrides-7.7.0-py3-none-any.whl (17 kB)\n",
      "Downloading pandocfilters-1.5.1-py2.py3-none-any.whl (8.7 kB)\n",
      "Downloading prometheus_client-0.21.1-py3-none-any.whl (54 kB)\n",
      "Downloading Send2Trash-1.8.3-py3-none-any.whl (18 kB)\n",
      "Downloading terminado-0.18.1-py3-none-any.whl (14 kB)\n",
      "Downloading tornado-6.4.2-cp38-abi3-manylinux_2_5_x86_64.manylinux1_x86_64.manylinux_2_17_x86_64.manylinux2014_x86_64.whl (437 kB)\n",
      "Downloading websocket_client-1.8.0-py3-none-any.whl (58 kB)\n",
      "Downloading beautifulsoup4-4.13.3-py3-none-any.whl (186 kB)\n",
      "Downloading defusedxml-0.7.1-py2.py3-none-any.whl (25 kB)\n",
      "Downloading jupyterlab_pygments-0.3.0-py3-none-any.whl (15 kB)\n",
      "Downloading python_json_logger-3.3.0-py3-none-any.whl (15 kB)\n",
      "Downloading rfc3986_validator-0.1.1-py2.py3-none-any.whl (4.2 kB)\n",
      "Downloading sniffio-1.3.1-py3-none-any.whl (10 kB)\n",
      "Downloading soupsieve-2.6-py3-none-any.whl (36 kB)\n",
      "Downloading tinycss2-1.4.0-py3-none-any.whl (26 kB)\n",
      "Downloading webencodings-0.5.1-py2.py3-none-any.whl (11 kB)\n",
      "Downloading argon2_cffi_bindings-21.2.0-cp36-abi3-manylinux_2_17_x86_64.manylinux2014_x86_64.whl (86 kB)\n",
      "Downloading rfc3339_validator-0.1.4-py2.py3-none-any.whl (3.5 kB)\n",
      "Downloading cffi-1.17.1-cp39-cp39-manylinux_2_17_x86_64.manylinux2014_x86_64.whl (445 kB)\n",
      "Downloading jsonpointer-3.0.0-py2.py3-none-any.whl (7.6 kB)\n",
      "Downloading webcolors-24.11.1-py3-none-any.whl (14 kB)\n",
      "Downloading fqdn-1.5.1-py3-none-any.whl (9.1 kB)\n",
      "Downloading isoduration-20.11.0-py3-none-any.whl (11 kB)\n",
      "Downloading uri_template-1.3.0-py3-none-any.whl (11 kB)\n",
      "Downloading arrow-1.3.0-py3-none-any.whl (66 kB)\n",
      "Downloading pycparser-2.22-py3-none-any.whl (117 kB)\n",
      "Downloading types_python_dateutil-2.9.0.20241206-py3-none-any.whl (14 kB)\n",
      "Installing collected packages: webencodings, websockets, websocket-client, webcolors, uri-template, types-python-dateutil, tornado, tinycss2, soupsieve, sniffio, send2trash, rfc3986-validator, rfc3339-validator, python-json-logger, pycparser, prometheus-client, pandocfilters, overrides, mistune, jupyterlab-pygments, jsonpointer, json5, fqdn, defusedxml, bleach, babel, terminado, jupyter-client, cffi, beautifulsoup4, arrow, anyio, jupyter-server-terminals, isoduration, argon2-cffi-bindings, argon2-cffi, nbclient, jupyter-events, nbconvert, jupyter-server, jupyterlab-server, voila\n",
      "  Attempting uninstall: tornado\n",
      "    Found existing installation: tornado 6.1\n",
      "    Uninstalling tornado-6.1:\n",
      "      Successfully uninstalled tornado-6.1\n",
      "  Attempting uninstall: jupyter-client\n",
      "    Found existing installation: jupyter-client 7.3.4\n",
      "    Uninstalling jupyter-client-7.3.4:\n",
      "      Successfully uninstalled jupyter-client-7.3.4\n",
      "Successfully installed anyio-4.9.0 argon2-cffi-23.1.0 argon2-cffi-bindings-21.2.0 arrow-1.3.0 babel-2.17.0 beautifulsoup4-4.13.3 bleach-6.2.0 cffi-1.17.1 defusedxml-0.7.1 fqdn-1.5.1 isoduration-20.11.0 json5-0.12.0 jsonpointer-3.0.0 jupyter-client-8.6.3 jupyter-events-0.12.0 jupyter-server-2.15.0 jupyter-server-terminals-0.5.3 jupyterlab-pygments-0.3.0 jupyterlab-server-2.27.3 mistune-3.1.3 nbclient-0.10.2 nbconvert-7.16.6 overrides-7.7.0 pandocfilters-1.5.1 prometheus-client-0.21.1 pycparser-2.22 python-json-logger-3.3.0 rfc3339-validator-0.1.4 rfc3986-validator-0.1.1 send2trash-1.8.3 sniffio-1.3.1 soupsieve-2.6 terminado-0.18.1 tinycss2-1.4.0 tornado-6.4.2 types-python-dateutil-2.9.0.20241206 uri-template-1.3.0 voila-0.5.8 webcolors-24.11.1 webencodings-0.5.1 websocket-client-1.8.0 websockets-15.0.1\n"
     ]
    }
   ],
   "source": [
    "!pip install voila\n"
   ]
  },
  {
   "cell_type": "code",
   "execution_count": null,
   "metadata": {},
   "outputs": [],
   "source": []
  }
 ],
 "metadata": {
  "kernelspec": {
   "display_name": "py3.9",
   "language": "python",
   "name": "python3"
  },
  "language_info": {
   "codemirror_mode": {
    "name": "ipython",
    "version": 3
   },
   "file_extension": ".py",
   "mimetype": "text/x-python",
   "name": "python",
   "nbconvert_exporter": "python",
   "pygments_lexer": "ipython3",
   "version": "3.9.0"
  }
 },
 "nbformat": 4,
 "nbformat_minor": 2
}
